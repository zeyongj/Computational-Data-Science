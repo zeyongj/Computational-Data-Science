{
 "cells": [
  {
   "cell_type": "markdown",
   "id": "876a77aa",
   "metadata": {},
   "source": [
    "# Data Preprocessing"
   ]
  },
  {
   "cell_type": "code",
   "execution_count": 1,
   "id": "b98cca78",
   "metadata": {},
   "outputs": [],
   "source": [
    "import pandas as pd"
   ]
  },
  {
   "cell_type": "code",
   "execution_count": 2,
   "id": "49ade298",
   "metadata": {},
   "outputs": [],
   "source": [
    "data_1 = pd.read_csv('data-1.csv')"
   ]
  },
  {
   "cell_type": "code",
   "execution_count": 3,
   "id": "0124d208",
   "metadata": {},
   "outputs": [],
   "source": [
    "data_2 = pd.read_csv('data-2.csv')"
   ]
  },
  {
   "cell_type": "code",
   "execution_count": 4,
   "id": "71df4dd2",
   "metadata": {},
   "outputs": [],
   "source": [
    "data_3 = pd.read_csv('data-3.csv')"
   ]
  },
  {
   "cell_type": "code",
   "execution_count": 5,
   "id": "82b50776",
   "metadata": {},
   "outputs": [],
   "source": [
    "data_4 = pd.read_csv('data-4.csv')"
   ]
  },
  {
   "cell_type": "code",
   "execution_count": 6,
   "id": "b10379a7",
   "metadata": {},
   "outputs": [],
   "source": [
    "data_5 = pd.read_csv('data-5.csv')"
   ]
  },
  {
   "cell_type": "code",
   "execution_count": 7,
   "id": "5cc140c0",
   "metadata": {},
   "outputs": [],
   "source": [
    "data_6 = pd.read_csv('data-6.csv')"
   ]
  },
  {
   "cell_type": "code",
   "execution_count": 8,
   "id": "e98c5251",
   "metadata": {},
   "outputs": [
    {
     "data": {
      "text/html": [
       "<div>\n",
       "<style scoped>\n",
       "    .dataframe tbody tr th:only-of-type {\n",
       "        vertical-align: middle;\n",
       "    }\n",
       "\n",
       "    .dataframe tbody tr th {\n",
       "        vertical-align: top;\n",
       "    }\n",
       "\n",
       "    .dataframe thead th {\n",
       "        text-align: right;\n",
       "    }\n",
       "</style>\n",
       "<table border=\"1\" class=\"dataframe\">\n",
       "  <thead>\n",
       "    <tr style=\"text-align: right;\">\n",
       "      <th></th>\n",
       "      <th>x</th>\n",
       "      <th>y</th>\n",
       "    </tr>\n",
       "  </thead>\n",
       "  <tbody>\n",
       "    <tr>\n",
       "      <th>0</th>\n",
       "      <td>29.168628</td>\n",
       "      <td>26.350615</td>\n",
       "    </tr>\n",
       "    <tr>\n",
       "      <th>1</th>\n",
       "      <td>12.801887</td>\n",
       "      <td>11.705425</td>\n",
       "    </tr>\n",
       "    <tr>\n",
       "      <th>2</th>\n",
       "      <td>19.744856</td>\n",
       "      <td>15.331458</td>\n",
       "    </tr>\n",
       "    <tr>\n",
       "      <th>3</th>\n",
       "      <td>34.890718</td>\n",
       "      <td>27.384153</td>\n",
       "    </tr>\n",
       "    <tr>\n",
       "      <th>4</th>\n",
       "      <td>30.410696</td>\n",
       "      <td>20.859101</td>\n",
       "    </tr>\n",
       "    <tr>\n",
       "      <th>...</th>\n",
       "      <td>...</td>\n",
       "      <td>...</td>\n",
       "    </tr>\n",
       "    <tr>\n",
       "      <th>95</th>\n",
       "      <td>16.478878</td>\n",
       "      <td>15.896346</td>\n",
       "    </tr>\n",
       "    <tr>\n",
       "      <th>96</th>\n",
       "      <td>8.126000</td>\n",
       "      <td>13.606581</td>\n",
       "    </tr>\n",
       "    <tr>\n",
       "      <th>97</th>\n",
       "      <td>29.430446</td>\n",
       "      <td>24.362231</td>\n",
       "    </tr>\n",
       "    <tr>\n",
       "      <th>98</th>\n",
       "      <td>9.522945</td>\n",
       "      <td>17.087944</td>\n",
       "    </tr>\n",
       "    <tr>\n",
       "      <th>99</th>\n",
       "      <td>12.823872</td>\n",
       "      <td>17.084992</td>\n",
       "    </tr>\n",
       "  </tbody>\n",
       "</table>\n",
       "<p>100 rows × 2 columns</p>\n",
       "</div>"
      ],
      "text/plain": [
       "            x          y\n",
       "0   29.168628  26.350615\n",
       "1   12.801887  11.705425\n",
       "2   19.744856  15.331458\n",
       "3   34.890718  27.384153\n",
       "4   30.410696  20.859101\n",
       "..        ...        ...\n",
       "95  16.478878  15.896346\n",
       "96   8.126000  13.606581\n",
       "97  29.430446  24.362231\n",
       "98   9.522945  17.087944\n",
       "99  12.823872  17.084992\n",
       "\n",
       "[100 rows x 2 columns]"
      ]
     },
     "execution_count": 8,
     "metadata": {},
     "output_type": "execute_result"
    }
   ],
   "source": [
    "data_1"
   ]
  },
  {
   "cell_type": "markdown",
   "id": "a0d9613a",
   "metadata": {},
   "source": [
    "# Statistics"
   ]
  },
  {
   "cell_type": "markdown",
   "id": "15fa576c",
   "metadata": {},
   "source": [
    "## Dataset 1"
   ]
  },
  {
   "cell_type": "code",
   "execution_count": 9,
   "id": "60a53df1",
   "metadata": {},
   "outputs": [],
   "source": [
    "x1_mean = data_1.x.mean()"
   ]
  },
  {
   "cell_type": "code",
   "execution_count": 10,
   "id": "8e240a0e",
   "metadata": {},
   "outputs": [],
   "source": [
    "y1_mean = data_1.y.mean()"
   ]
  },
  {
   "cell_type": "code",
   "execution_count": 11,
   "id": "7b50a7c6",
   "metadata": {},
   "outputs": [],
   "source": [
    "x1_std = data_1.x.std()"
   ]
  },
  {
   "cell_type": "code",
   "execution_count": 12,
   "id": "77939481",
   "metadata": {},
   "outputs": [],
   "source": [
    "y1_std = data_1.y.std()"
   ]
  },
  {
   "cell_type": "code",
   "execution_count": 13,
   "id": "63a1b0d4",
   "metadata": {},
   "outputs": [],
   "source": [
    "x1_min = data_1.x.min()"
   ]
  },
  {
   "cell_type": "code",
   "execution_count": 14,
   "id": "5e8b62cd",
   "metadata": {},
   "outputs": [],
   "source": [
    "x1_max = data_1.x.max()"
   ]
  },
  {
   "cell_type": "code",
   "execution_count": 15,
   "id": "75b518da",
   "metadata": {},
   "outputs": [],
   "source": [
    "y1_min = data_1.y.min()\n",
    "# y1_min"
   ]
  },
  {
   "cell_type": "code",
   "execution_count": 16,
   "id": "d7216028",
   "metadata": {},
   "outputs": [],
   "source": [
    "y1_max = data_1.y.max()\n",
    "# y1_max"
   ]
  },
  {
   "cell_type": "code",
   "execution_count": 17,
   "id": "0b3911a4",
   "metadata": {},
   "outputs": [],
   "source": [
    "# data_1.corr()"
   ]
  },
  {
   "cell_type": "code",
   "execution_count": 18,
   "id": "2405c19a",
   "metadata": {},
   "outputs": [],
   "source": [
    "data1_corr = data_1.corr()['x']['y']\n",
    "# data1_corr"
   ]
  },
  {
   "cell_type": "code",
   "execution_count": 19,
   "id": "041661ce",
   "metadata": {},
   "outputs": [
    {
     "name": "stdout",
     "output_type": "stream",
     "text": [
      "Data Summry of The First Dataset:\n",
      "The mean of x variable is 8.717696;\n",
      "The mean of y variable is 12.522874;\n",
      "The standard deviation of x variable is 12.155517;\n",
      "The standard deviation of y variable is 6.639964;\n",
      "The range of x variable is [-22.635878, 35.237055];\n",
      "The range of y variable is [-2.565088, 27.384153];\n",
      "The correlation between the x and y variables are 0.950326.\n"
     ]
    }
   ],
   "source": [
    "print('Data Summry of The First Dataset:')\n",
    "print('The mean of x variable is %f;' % x1_mean)\n",
    "print('The mean of y variable is %f;' % y1_mean)\n",
    "print('The standard deviation of x variable is %f;' % x1_std)\n",
    "print('The standard deviation of y variable is %f;' % y1_std)\n",
    "print('The range of x variable is [%f, %f];' % (x1_min, x1_max))\n",
    "print('The range of y variable is [%f, %f];' % (y1_min, y1_max))\n",
    "print('The correlation between the x and y variables are %f.' % data1_corr)"
   ]
  },
  {
   "cell_type": "code",
   "execution_count": 20,
   "id": "fee37357",
   "metadata": {},
   "outputs": [],
   "source": [
    "import matplotlib.pyplot as plt"
   ]
  },
  {
   "cell_type": "code",
   "execution_count": 21,
   "id": "8a01a92f",
   "metadata": {},
   "outputs": [
    {
     "data": {
      "text/plain": [
       "Text(0.5, 1.0, 'Sctter Plot of Dataset 1')"
      ]
     },
     "execution_count": 21,
     "metadata": {},
     "output_type": "execute_result"
    },
    {
     "data": {
      "image/png": "[encoded data removed]",
      "text/plain": [
       "<Figure size 432x288 with 1 Axes>"
      ]
     },
     "metadata": {
      "needs_background": "light"
     },
     "output_type": "display_data"
    }
   ],
   "source": [
    "plt.scatter(data_1.x, data_1.y)\n",
    "plt.title('Sctter Plot of Dataset 1')"
   ]
  },
  {
   "cell_type": "code",
   "execution_count": 22,
   "id": "84ed7f64",
   "metadata": {},
   "outputs": [
    {
     "name": "stdout",
     "output_type": "stream",
     "text": [
      "One Sentence Description of Dataset 1:\n",
      "According to the coorelation value and the scatter plot of the first dataset, the two variables have strong linear correlation.\n"
     ]
    }
   ],
   "source": [
    "print('One Sentence Description of Dataset 1:')\n",
    "print('According to the coorelation value and the scatter plot of the first dataset, the two variables have strong linear correlation.')"
   ]
  },
  {
   "cell_type": "markdown",
   "id": "72deb618",
   "metadata": {},
   "source": [
    "## Dataset 2"
   ]
  },
  {
   "cell_type": "code",
   "execution_count": 23,
   "id": "1b43bda4",
   "metadata": {},
   "outputs": [],
   "source": [
    "x2_mean = data_2.x.mean()\n",
    "y2_mean = data_2.y.mean()\n",
    "x2_std = data_2.x.std()\n",
    "y2_std = data_2.y.std()\n",
    "x2_min = data_2.x.min()\n",
    "x2_max = data_2.x.max()\n",
    "y2_min = data_2.y.min()\n",
    "y2_max = data_2.y.max()\n",
    "data2_corr = data_2.corr()['x']['y']"
   ]
  },
  {
   "cell_type": "code",
   "execution_count": 24,
   "id": "2f1ffa3c",
   "metadata": {},
   "outputs": [
    {
     "name": "stdout",
     "output_type": "stream",
     "text": [
      "Data Summry of The Second Dataset:\n",
      "The mean of x variable is -0.710787;\n",
      "The mean of y variable is -0.748987;\n",
      "The standard deviation of x variable is 11.481584;\n",
      "The standard deviation of y variable is 6.257918;\n",
      "The range of x variable is [-33.271113, 27.647000];\n",
      "The range of y variable is [-18.621804, 14.147315];\n",
      "The correlation between the x and y variables are 0.955153.\n"
     ]
    }
   ],
   "source": [
    "print('Data Summry of The Second Dataset:')\n",
    "print('The mean of x variable is %f;' % x2_mean)\n",
    "print('The mean of y variable is %f;' % y2_mean)\n",
    "print('The standard deviation of x variable is %f;' % x2_std)\n",
    "print('The standard deviation of y variable is %f;' % y2_std)\n",
    "print('The range of x variable is [%f, %f];' % (x2_min, x2_max))\n",
    "print('The range of y variable is [%f, %f];' % (y2_min, y2_max))\n",
    "print('The correlation between the x and y variables are %f.' % data2_corr)"
   ]
  },
  {
   "cell_type": "code",
   "execution_count": 25,
   "id": "9f613c1f",
   "metadata": {},
   "outputs": [
    {
     "data": {
      "text/plain": [
       "Text(0.5, 1.0, 'Sctter Plot of Dataset 2')"
      ]
     },
     "execution_count": 25,
     "metadata": {},
     "output_type": "execute_result"
    },
    {
     "data": {
      "image/png": "[encoded data removed]",
      "text/plain": [
       "<Figure size 432x288 with 1 Axes>"
      ]
     },
     "metadata": {
      "needs_background": "light"
     },
     "output_type": "display_data"
    }
   ],
   "source": [
    "plt.scatter(data_2.x, data_2.y)\n",
    "plt.title('Sctter Plot of Dataset 2')"
   ]
  },
  {
   "cell_type": "code",
   "execution_count": 26,
   "id": "8957da1d",
   "metadata": {},
   "outputs": [
    {
     "name": "stdout",
     "output_type": "stream",
     "text": [
      "One Sentence Description of Dataset 2:\n",
      "According to the coorelation value and the scatter plot of the second dataset, the two variables have strong linear correlation.\n"
     ]
    }
   ],
   "source": [
    "print('One Sentence Description of Dataset 2:')\n",
    "print('According to the coorelation value and the scatter plot of the second dataset, the two variables have strong linear correlation.')"
   ]
  },
  {
   "cell_type": "markdown",
   "id": "f061c3e3",
   "metadata": {},
   "source": [
    "## Dataset 3"
   ]
  },
  {
   "cell_type": "code",
   "execution_count": 27,
   "id": "1e774846",
   "metadata": {},
   "outputs": [],
   "source": [
    "x3_mean = data_3.x.mean()\n",
    "y3_mean = data_3.y.mean()\n",
    "x3_std = data_3.x.std()\n",
    "y3_std = data_3.y.std()\n",
    "x3_min = data_3.x.min()\n",
    "x3_max = data_3.x.max()\n",
    "y3_min = data_3.y.min()\n",
    "y3_max = data_3.y.max()\n",
    "data3_corr = data_3.corr()['x']['y']"
   ]
  },
  {
   "cell_type": "code",
   "execution_count": 28,
   "id": "a4e7c518",
   "metadata": {},
   "outputs": [
    {
     "name": "stdout",
     "output_type": "stream",
     "text": [
      "Data Summry of The Third Dataset:\n",
      "The mean of x variable is 0.968907;\n",
      "The mean of y variable is 8.508535;\n",
      "The standard deviation of x variable is 2.235558;\n",
      "The standard deviation of y variable is 1.149301;\n",
      "The range of x variable is [-2.449064, 4.518885];\n",
      "The range of y variable is [6.641734, 10.551871];\n",
      "The correlation between the x and y variables are 0.981937.\n"
     ]
    }
   ],
   "source": [
    "print('Data Summry of The Third Dataset:')\n",
    "print('The mean of x variable is %f;' % x3_mean)\n",
    "print('The mean of y variable is %f;' % y3_mean)\n",
    "print('The standard deviation of x variable is %f;' % x3_std)\n",
    "print('The standard deviation of y variable is %f;' % y3_std)\n",
    "print('The range of x variable is [%f, %f];' % (x3_min, x3_max))\n",
    "print('The range of y variable is [%f, %f];' % (y3_min, y3_max))\n",
    "print('The correlation between the x and y variables are %f.' % data3_corr)"
   ]
  },
  {
   "cell_type": "code",
   "execution_count": 29,
   "id": "f3d131c9",
   "metadata": {},
   "outputs": [
    {
     "data": {
      "text/plain": [
       "Text(0.5, 1.0, 'Sctter Plot of Dataset 3')"
      ]
     },
     "execution_count": 29,
     "metadata": {},
     "output_type": "execute_result"
    },
    {
     "data": {
      "image/png": "[encoded data removed]",
      "text/plain": [
       "<Figure size 432x288 with 1 Axes>"
      ]
     },
     "metadata": {
      "needs_background": "light"
     },
     "output_type": "display_data"
    }
   ],
   "source": [
    "plt.scatter(data_3.x, data_3.y)\n",
    "plt.title('Sctter Plot of Dataset 3')"
   ]
  },
  {
   "cell_type": "code",
   "execution_count": 30,
   "id": "66050131",
   "metadata": {},
   "outputs": [
    {
     "name": "stdout",
     "output_type": "stream",
     "text": [
      "One Sentence Description of Dataset 3:\n",
      "According to the coorelation value and the scatter plot of the third dataset, although the two variables have strong linear correlation, there are 4 clusters on the graph.\n"
     ]
    }
   ],
   "source": [
    "print('One Sentence Description of Dataset 3:')\n",
    "print('According to the coorelation value and the scatter plot of the third dataset, although the two variables have strong linear correlation, there are 4 clusters on the graph.')"
   ]
  },
  {
   "cell_type": "markdown",
   "id": "c8bfe179",
   "metadata": {},
   "source": [
    "## Dataset 4"
   ]
  },
  {
   "cell_type": "code",
   "execution_count": 31,
   "id": "17c2a024",
   "metadata": {},
   "outputs": [],
   "source": [
    "x4_mean = data_4.x.mean()\n",
    "y4_mean = data_4.y.mean()\n",
    "x4_std = data_4.x.std()\n",
    "y4_std = data_4.y.std()\n",
    "x4_min = data_4.x.min()\n",
    "x4_max = data_4.x.max()\n",
    "y4_min = data_4.y.min()\n",
    "y4_max = data_4.y.max()\n",
    "data4_corr = data_4.corr()['x']['y']"
   ]
  },
  {
   "cell_type": "code",
   "execution_count": 32,
   "id": "85fe7d0b",
   "metadata": {},
   "outputs": [
    {
     "name": "stdout",
     "output_type": "stream",
     "text": [
      "Data Summry of The Fourth Dataset:\n",
      "The mean of x variable is 49.905086;\n",
      "The mean of y variable is 18.553837;\n",
      "The standard deviation of x variable is 28.508611;\n",
      "The standard deviation of y variable is 16.545896;\n",
      "The range of x variable is [0.000000, 87.376700];\n",
      "The range of y variable is [0.000000, 44.565040];\n",
      "The correlation between the x and y variables are -0.081193.\n"
     ]
    }
   ],
   "source": [
    "print('Data Summry of The Fourth Dataset:')\n",
    "print('The mean of x variable is %f;' % x4_mean)\n",
    "print('The mean of y variable is %f;' % y4_mean)\n",
    "print('The standard deviation of x variable is %f;' % x4_std)\n",
    "print('The standard deviation of y variable is %f;' % y4_std)\n",
    "print('The range of x variable is [%f, %f];' % (x4_min, x4_max))\n",
    "print('The range of y variable is [%f, %f];' % (y4_min, y4_max))\n",
    "print('The correlation between the x and y variables are %f.' % data4_corr)"
   ]
  },
  {
   "cell_type": "code",
   "execution_count": 33,
   "id": "9511a17b",
   "metadata": {},
   "outputs": [
    {
     "data": {
      "text/plain": [
       "Text(0.5, 1.0, 'Sctter Plot of Dataset 4')"
      ]
     },
     "execution_count": 33,
     "metadata": {},
     "output_type": "execute_result"
    },
    {
     "data": {
      "image/png": "[encoded data removed]",
      "text/plain": [
       "<Figure size 432x288 with 1 Axes>"
      ]
     },
     "metadata": {
      "needs_background": "light"
     },
     "output_type": "display_data"
    }
   ],
   "source": [
    "plt.scatter(data_4.x, data_4.y)\n",
    "plt.title('Sctter Plot of Dataset 4')"
   ]
  },
  {
   "cell_type": "code",
   "execution_count": 34,
   "id": "82e25712",
   "metadata": {},
   "outputs": [
    {
     "name": "stdout",
     "output_type": "stream",
     "text": [
      "One Sentence Description of Dataset 4:\n",
      "According to the coorelation value and the scatter plot of the fourth dataset,there is NO linear correlation, but the graph is the logo of Simon Fraser University, SFU.\n"
     ]
    }
   ],
   "source": [
    "print('One Sentence Description of Dataset 4:')\n",
    "print('According to the coorelation value and the scatter plot of the fourth dataset,there is NO linear correlation, but the graph is the logo of Simon Fraser University, SFU.')"
   ]
  },
  {
   "cell_type": "markdown",
   "id": "5964dada",
   "metadata": {},
   "source": [
    "## Dataset 5"
   ]
  },
  {
   "cell_type": "code",
   "execution_count": 35,
   "id": "027758bb",
   "metadata": {},
   "outputs": [],
   "source": [
    "x5_mean = data_5.x.mean()\n",
    "y5_mean = data_5.y.mean()\n",
    "x5_std = data_5.x.std()\n",
    "y5_std = data_5.y.std()\n",
    "x5_min = data_5.x.min()\n",
    "x5_max = data_5.x.max()\n",
    "y5_min = data_5.y.min()\n",
    "y5_max = data_5.y.max()\n",
    "data5_corr = data_5.corr()['x']['y']"
   ]
  },
  {
   "cell_type": "code",
   "execution_count": 36,
   "id": "e7b9d293",
   "metadata": {},
   "outputs": [
    {
     "name": "stdout",
     "output_type": "stream",
     "text": [
      "Data Summry of The Fifth Dataset:\n",
      "The mean of x variable is 49.909994;\n",
      "The mean of y variable is 18.555525;\n",
      "The standard deviation of x variable is 28.500001;\n",
      "The standard deviation of y variable is 16.540796;\n",
      "The range of x variable is [4.337892, 91.052863];\n",
      "The range of y variable is [0.055498, 49.934197];\n",
      "The correlation between the x and y variables are -0.088236.\n"
     ]
    }
   ],
   "source": [
    "print('Data Summry of The Fifth Dataset:')\n",
    "print('The mean of x variable is %f;' % x5_mean)\n",
    "print('The mean of y variable is %f;' % y5_mean)\n",
    "print('The standard deviation of x variable is %f;' % x5_std)\n",
    "print('The standard deviation of y variable is %f;' % y5_std)\n",
    "print('The range of x variable is [%f, %f];' % (x5_min, x5_max))\n",
    "print('The range of y variable is [%f, %f];' % (y5_min, y5_max))\n",
    "print('The correlation between the x and y variables are %f.' % data5_corr)"
   ]
  },
  {
   "cell_type": "code",
   "execution_count": 37,
   "id": "99bd2c14",
   "metadata": {},
   "outputs": [
    {
     "data": {
      "text/plain": [
       "Text(0.5, 1.0, 'Sctter Plot of Dataset 5')"
      ]
     },
     "execution_count": 37,
     "metadata": {},
     "output_type": "execute_result"
    },
    {
     "data": {
      "image/png": "[encoded data removed]",
      "text/plain": [
       "<Figure size 432x288 with 1 Axes>"
      ]
     },
     "metadata": {
      "needs_background": "light"
     },
     "output_type": "display_data"
    }
   ],
   "source": [
    "plt.scatter(data_5.x, data_5.y)\n",
    "plt.title('Sctter Plot of Dataset 5')"
   ]
  },
  {
   "cell_type": "code",
   "execution_count": 38,
   "id": "e1ecdf55",
   "metadata": {},
   "outputs": [
    {
     "name": "stdout",
     "output_type": "stream",
     "text": [
      "One Sentence Description of Dataset 5:\n",
      "According to the coorelation value and the scatter plot of the fourth dataset,there is NO linear correlation, but on vertical view, there are 5 clusters.\n"
     ]
    }
   ],
   "source": [
    "print('One Sentence Description of Dataset 5:')\n",
    "print('According to the coorelation value and the scatter plot of the fourth dataset,there is NO linear correlation, but on vertical view, there are 5 clusters.')"
   ]
  },
  {
   "cell_type": "markdown",
   "id": "b2fbe02b",
   "metadata": {},
   "source": [
    "## Dataset 6"
   ]
  },
  {
   "cell_type": "code",
   "execution_count": 39,
   "id": "1ba5c4b7",
   "metadata": {},
   "outputs": [],
   "source": [
    "x6_mean = data_6.x.mean()\n",
    "y6_mean = data_6.y.mean()\n",
    "x6_std = data_6.x.std()\n",
    "y6_std = data_6.y.std()\n",
    "x6_min = data_6.x.min()\n",
    "x6_max = data_6.x.max()\n",
    "y6_min = data_6.y.min()\n",
    "y6_max = data_6.y.max()\n",
    "data6_corr = data_6.corr()['x']['y']"
   ]
  },
  {
   "cell_type": "code",
   "execution_count": 40,
   "id": "12cd8f91",
   "metadata": {},
   "outputs": [
    {
     "name": "stdout",
     "output_type": "stream",
     "text": [
      "Data Summry of The Sixth Dataset:\n",
      "The mean of x variable is 7.216155;\n",
      "The mean of y variable is 7.602215;\n",
      "The standard deviation of x variable is 11.921599;\n",
      "The standard deviation of y variable is 11.764382;\n",
      "The range of x variable is [-24.333821, 35.402139];\n",
      "The range of y variable is [-22.956357, 36.079874];\n",
      "The correlation between the x and y variables are 0.935069.\n"
     ]
    }
   ],
   "source": [
    "print('Data Summry of The Sixth Dataset:')\n",
    "print('The mean of x variable is %f;' % x6_mean)\n",
    "print('The mean of y variable is %f;' % y6_mean)\n",
    "print('The standard deviation of x variable is %f;' % x6_std)\n",
    "print('The standard deviation of y variable is %f;' % y6_std)\n",
    "print('The range of x variable is [%f, %f];' % (x6_min, x6_max))\n",
    "print('The range of y variable is [%f, %f];' % (y6_min, y6_max))\n",
    "print('The correlation between the x and y variables are %f.' % data6_corr)"
   ]
  },
  {
   "cell_type": "code",
   "execution_count": 41,
   "id": "bedce760",
   "metadata": {},
   "outputs": [
    {
     "data": {
      "text/plain": [
       "Text(0.5, 1.0, 'Sctter Plot of Dataset 6')"
      ]
     },
     "execution_count": 41,
     "metadata": {},
     "output_type": "execute_result"
    },
    {
     "data": {
      "image/png": "[encoded data removed]",
      "text/plain": [
       "<Figure size 432x288 with 1 Axes>"
      ]
     },
     "metadata": {
      "needs_background": "light"
     },
     "output_type": "display_data"
    }
   ],
   "source": [
    "plt.scatter(data_6.x, data_6.y)\n",
    "plt.title('Sctter Plot of Dataset 6')"
   ]
  },
  {
   "cell_type": "code",
   "execution_count": 42,
   "id": "f4baf656",
   "metadata": {},
   "outputs": [
    {
     "name": "stdout",
     "output_type": "stream",
     "text": [
      "One Sentence Description of Dataset 6:\n",
      "According to the coorelation value and the scatter plot of the fourth dataset,the two variables have strong linear correlation, but there are two outliers which are away from the regression line.\n"
     ]
    }
   ],
   "source": [
    "print('One Sentence Description of Dataset 6:')\n",
    "print('According to the coorelation value and the scatter plot of the fourth dataset,the two variables have strong linear correlation, but there are two outliers which are away from the regression line.')"
   ]
  },
  {
   "cell_type": "markdown",
   "id": "45dbdf49",
   "metadata": {},
   "source": [
    "# Summary"
   ]
  },
  {
   "cell_type": "code",
   "execution_count": 43,
   "id": "22d2f386",
   "metadata": {},
   "outputs": [
    {
     "name": "stdout",
     "output_type": "stream",
     "text": [
      "SUMMARY\n",
      "\n",
      "Data Summry of The First Dataset:\n",
      "The mean of x variable is 8.717696;\n",
      "The mean of y variable is 12.522874;\n",
      "The standard deviation of x variable is 12.155517;\n",
      "The standard deviation of y variable is 6.639964;\n",
      "The range of x variable is [-22.635878, 35.237055];\n",
      "The range of y variable is [-2.565088, 27.384153];\n",
      "The correlation between the x and y variables are 0.950326.\n",
      "One Sentence Description of Dataset 1:\n",
      "According to the coorelation value and the scatter plot of the first dataset, the two variables have strong linear correlation.\n",
      "\n",
      "Data Summry of The Second Dataset:\n",
      "The mean of x variable is -0.710787;\n",
      "The mean of y variable is -0.748987;\n",
      "The standard deviation of x variable is 11.481584;\n",
      "The standard deviation of y variable is 6.257918;\n",
      "The range of x variable is [-33.271113, 27.647000];\n",
      "The range of y variable is [-18.621804, 14.147315];\n",
      "The correlation between the x and y variables are 0.955153.\n",
      "One Sentence Description of Dataset 2:\n",
      "According to the coorelation value and the scatter plot of the second dataset, the two variables have strong linear correlation.\n",
      "\n",
      "Data Summry of The Third Dataset:\n",
      "The mean of x variable is 0.968907;\n",
      "The mean of y variable is 8.508535;\n",
      "The standard deviation of x variable is 2.235558;\n",
      "The standard deviation of y variable is 1.149301;\n",
      "The range of x variable is [-2.449064, 4.518885];\n",
      "The range of y variable is [6.641734, 10.551871];\n",
      "The correlation between the x and y variables are 0.981937.\n",
      "One Sentence Description of Dataset 3:\n",
      "According to the coorelation value and the scatter plot of the third dataset, although the two variables have strong linear correlation, there are 4 clusters on the graph.\n",
      "\n",
      "Data Summry of The Fourth Dataset:\n",
      "The mean of x variable is 49.905086;\n",
      "The mean of y variable is 18.553837;\n",
      "The standard deviation of x variable is 28.508611;\n",
      "The standard deviation of y variable is 16.545896;\n",
      "The range of x variable is [0.000000, 87.376700];\n",
      "The range of y variable is [0.000000, 44.565040];\n",
      "The correlation between the x and y variables are -0.081193.\n",
      "One Sentence Description of Dataset 4:\n",
      "According to the coorelation value and the scatter plot of the fourth dataset,there is NO linear correlation, but the graph is the logo of Simon Fraser University, SFU.\n",
      "\n",
      "Data Summry of The Fifth Dataset:\n",
      "The mean of x variable is 49.909994;\n",
      "The mean of y variable is 18.555525;\n",
      "The standard deviation of x variable is 28.500001;\n",
      "The standard deviation of y variable is 16.540796;\n",
      "The range of x variable is [4.337892, 91.052863];\n",
      "The range of y variable is [0.055498, 49.934197];\n",
      "The correlation between the x and y variables are -0.088236.\n",
      "One Sentence Description of Dataset 5:\n",
      "According to the coorelation value and the scatter plot of the fourth dataset,there is NO linear correlation, but on vertical view, there are 5 clusters.\n",
      "\n",
      "Data Summry of The Sixth Dataset:\n",
      "The mean of x variable is 7.216155;\n",
      "The mean of y variable is 7.602215;\n",
      "The standard deviation of x variable is 11.921599;\n",
      "The standard deviation of y variable is 11.764382;\n",
      "The range of x variable is [-24.333821, 35.402139];\n",
      "The range of y variable is [-22.956357, 36.079874];\n",
      "The correlation between the x and y variables are 0.935069.\n",
      "One Sentence Description of Dataset 6:\n",
      "According to the coorelation value and the scatter plot of the fourth dataset,the two variables have strong linear correlation, but there are two outliers which are away from the regression line.\n",
      "\n",
      "END OF SUMMARY\n"
     ]
    }
   ],
   "source": [
    "print('SUMMARY')\n",
    "print()\n",
    "print('Data Summry of The First Dataset:')\n",
    "print('The mean of x variable is %f;' % x1_mean)\n",
    "print('The mean of y variable is %f;' % y1_mean)\n",
    "print('The standard deviation of x variable is %f;' % x1_std)\n",
    "print('The standard deviation of y variable is %f;' % y1_std)\n",
    "print('The range of x variable is [%f, %f];' % (x1_min, x1_max))\n",
    "print('The range of y variable is [%f, %f];' % (y1_min, y1_max))\n",
    "print('The correlation between the x and y variables are %f.' % data1_corr)\n",
    "print('One Sentence Description of Dataset 1:')\n",
    "print('According to the coorelation value and the scatter plot of the first dataset, the two variables have strong linear correlation.')\n",
    "print()\n",
    "print('Data Summry of The Second Dataset:')\n",
    "print('The mean of x variable is %f;' % x2_mean)\n",
    "print('The mean of y variable is %f;' % y2_mean)\n",
    "print('The standard deviation of x variable is %f;' % x2_std)\n",
    "print('The standard deviation of y variable is %f;' % y2_std)\n",
    "print('The range of x variable is [%f, %f];' % (x2_min, x2_max))\n",
    "print('The range of y variable is [%f, %f];' % (y2_min, y2_max))\n",
    "print('The correlation between the x and y variables are %f.' % data2_corr)\n",
    "print('One Sentence Description of Dataset 2:')\n",
    "print('According to the coorelation value and the scatter plot of the second dataset, the two variables have strong linear correlation.')\n",
    "print()\n",
    "print('Data Summry of The Third Dataset:')\n",
    "print('The mean of x variable is %f;' % x3_mean)\n",
    "print('The mean of y variable is %f;' % y3_mean)\n",
    "print('The standard deviation of x variable is %f;' % x3_std)\n",
    "print('The standard deviation of y variable is %f;' % y3_std)\n",
    "print('The range of x variable is [%f, %f];' % (x3_min, x3_max))\n",
    "print('The range of y variable is [%f, %f];' % (y3_min, y3_max))\n",
    "print('The correlation between the x and y variables are %f.' % data3_corr)\n",
    "print('One Sentence Description of Dataset 3:')\n",
    "print('According to the coorelation value and the scatter plot of the third dataset, although the two variables have strong linear correlation, there are 4 clusters on the graph.')\n",
    "print()\n",
    "print('Data Summry of The Fourth Dataset:')\n",
    "print('The mean of x variable is %f;' % x4_mean)\n",
    "print('The mean of y variable is %f;' % y4_mean)\n",
    "print('The standard deviation of x variable is %f;' % x4_std)\n",
    "print('The standard deviation of y variable is %f;' % y4_std)\n",
    "print('The range of x variable is [%f, %f];' % (x4_min, x4_max))\n",
    "print('The range of y variable is [%f, %f];' % (y4_min, y4_max))\n",
    "print('The correlation between the x and y variables are %f.' % data4_corr)\n",
    "print('One Sentence Description of Dataset 4:')\n",
    "print('According to the coorelation value and the scatter plot of the fourth dataset,there is NO linear correlation, but the graph is the logo of Simon Fraser University, SFU.')\n",
    "print()\n",
    "print('Data Summry of The Fifth Dataset:')\n",
    "print('The mean of x variable is %f;' % x5_mean)\n",
    "print('The mean of y variable is %f;' % y5_mean)\n",
    "print('The standard deviation of x variable is %f;' % x5_std)\n",
    "print('The standard deviation of y variable is %f;' % y5_std)\n",
    "print('The range of x variable is [%f, %f];' % (x5_min, x5_max))\n",
    "print('The range of y variable is [%f, %f];' % (y5_min, y5_max))\n",
    "print('The correlation between the x and y variables are %f.' % data5_corr)\n",
    "print('One Sentence Description of Dataset 5:')\n",
    "print('According to the coorelation value and the scatter plot of the fourth dataset,there is NO linear correlation, but on vertical view, there are 5 clusters.')\n",
    "print()\n",
    "print('Data Summry of The Sixth Dataset:')\n",
    "print('The mean of x variable is %f;' % x6_mean)\n",
    "print('The mean of y variable is %f;' % y6_mean)\n",
    "print('The standard deviation of x variable is %f;' % x6_std)\n",
    "print('The standard deviation of y variable is %f;' % y6_std)\n",
    "print('The range of x variable is [%f, %f];' % (x6_min, x6_max))\n",
    "print('The range of y variable is [%f, %f];' % (y6_min, y6_max))\n",
    "print('The correlation between the x and y variables are %f.' % data6_corr)\n",
    "print('One Sentence Description of Dataset 6:')\n",
    "print('According to the coorelation value and the scatter plot of the fourth dataset,the two variables have strong linear correlation, but there are two outliers which are away from the regression line.')\n",
    "print()\n",
    "print('END OF SUMMARY')"
   ]
  },
  {
   "cell_type": "code",
   "execution_count": null,
   "id": "3465f439",
   "metadata": {},
   "outputs": [],
   "source": []
  }
 ],
 "metadata": {
  "kernelspec": {
   "display_name": "Python 3",
   "language": "python",
   "name": "python3"
  },
  "language_info": {
   "codemirror_mode": {
    "name": "ipython",
    "version": 3
   },
   "file_extension": ".py",
   "mimetype": "text/x-python",
   "name": "python",
   "nbconvert_exporter": "python",
   "pygments_lexer": "ipython3",
   "version": "3.8.8"
  }
 },
 "nbformat": 4,
 "nbformat_minor": 5
}
