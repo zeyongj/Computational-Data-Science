{
 "cells": [
  {
   "cell_type": "markdown",
   "id": "b1c412bc",
   "metadata": {},
   "source": [
    "# I. Data Preprocessing"
   ]
  },
  {
   "cell_type": "markdown",
   "id": "36f97dea",
   "metadata": {},
   "source": [
    "## Part 1: Load the data from the CSV into a DataFrame. "
   ]
  },
  {
   "cell_type": "code",
   "execution_count": 1,
   "id": "e43842b8",
   "metadata": {},
   "outputs": [],
   "source": [
    "import pandas as pd"
   ]
  },
  {
   "cell_type": "code",
   "execution_count": 2,
   "id": "da052e5b",
   "metadata": {},
   "outputs": [],
   "source": [
    "data = pd.read_csv('dog_rates_tweets.csv')\n",
    "# Adapted from https://www.jianshu.com/p/f80586446151?ivk_sa=1024320u."
   ]
  },
  {
   "cell_type": "code",
   "execution_count": 3,
   "id": "bf537f34",
   "metadata": {},
   "outputs": [
    {
     "data": {
      "text/html": [
       "<div>\n",
       "<style scoped>\n",
       "    .dataframe tbody tr th:only-of-type {\n",
       "        vertical-align: middle;\n",
       "    }\n",
       "\n",
       "    .dataframe tbody tr th {\n",
       "        vertical-align: top;\n",
       "    }\n",
       "\n",
       "    .dataframe thead th {\n",
       "        text-align: right;\n",
       "    }\n",
       "</style>\n",
       "<table border=\"1\" class=\"dataframe\">\n",
       "  <thead>\n",
       "    <tr style=\"text-align: right;\">\n",
       "      <th></th>\n",
       "      <th>id</th>\n",
       "      <th>created_at</th>\n",
       "      <th>text</th>\n",
       "    </tr>\n",
       "  </thead>\n",
       "  <tbody>\n",
       "    <tr>\n",
       "      <th>0</th>\n",
       "      <td>994677639364403200</td>\n",
       "      <td>2018-05-10 20:36:44</td>\n",
       "      <td>@Steff88979267 tell them to h*ck off</td>\n",
       "    </tr>\n",
       "    <tr>\n",
       "      <th>1</th>\n",
       "      <td>994364904978239488</td>\n",
       "      <td>2018-05-09 23:54:02</td>\n",
       "      <td>@NFLOwnerGBP take it back</td>\n",
       "    </tr>\n",
       "    <tr>\n",
       "      <th>2</th>\n",
       "      <td>994363623421153280</td>\n",
       "      <td>2018-05-09 23:48:56</td>\n",
       "      <td>This is Louie. He has misplaced his Cheerio. W...</td>\n",
       "    </tr>\n",
       "    <tr>\n",
       "      <th>3</th>\n",
       "      <td>994336722875047936</td>\n",
       "      <td>2018-05-09 22:02:03</td>\n",
       "      <td>@rachaellanaghan ❤️</td>\n",
       "    </tr>\n",
       "    <tr>\n",
       "      <th>4</th>\n",
       "      <td>994024065982717952</td>\n",
       "      <td>2018-05-09 01:19:40</td>\n",
       "      <td>This is Captain Jack Wobbles. He is currently ...</td>\n",
       "    </tr>\n",
       "    <tr>\n",
       "      <th>...</th>\n",
       "      <td>...</td>\n",
       "      <td>...</td>\n",
       "      <td>...</td>\n",
       "    </tr>\n",
       "    <tr>\n",
       "      <th>11710</th>\n",
       "      <td>1091789851282665472</td>\n",
       "      <td>2019-02-02 20:05:59</td>\n",
       "      <td>This is Cadogan. He’s had the same morning rou...</td>\n",
       "    </tr>\n",
       "    <tr>\n",
       "      <th>11711</th>\n",
       "      <td>1091772144927666176</td>\n",
       "      <td>2019-02-02 18:55:38</td>\n",
       "      <td>@mayapolarbear 6/5 stars</td>\n",
       "    </tr>\n",
       "    <tr>\n",
       "      <th>11712</th>\n",
       "      <td>1091425960606367745</td>\n",
       "      <td>2019-02-01 20:00:01</td>\n",
       "      <td>@Acallofthevoid 🤗</td>\n",
       "    </tr>\n",
       "    <tr>\n",
       "      <th>11713</th>\n",
       "      <td>1091417463512678400</td>\n",
       "      <td>2019-02-01 19:26:15</td>\n",
       "      <td>@jaytay777 OLIVER!!! you’re doing so well budd...</td>\n",
       "    </tr>\n",
       "    <tr>\n",
       "      <th>11714</th>\n",
       "      <td>1091415822495436801</td>\n",
       "      <td>2019-02-01 19:19:44</td>\n",
       "      <td>@hyqnotised she’ll sort through all offers lat...</td>\n",
       "    </tr>\n",
       "  </tbody>\n",
       "</table>\n",
       "<p>11715 rows × 3 columns</p>\n",
       "</div>"
      ],
      "text/plain": [
       "                        id           created_at  \\\n",
       "0       994677639364403200  2018-05-10 20:36:44   \n",
       "1       994364904978239488  2018-05-09 23:54:02   \n",
       "2       994363623421153280  2018-05-09 23:48:56   \n",
       "3       994336722875047936  2018-05-09 22:02:03   \n",
       "4       994024065982717952  2018-05-09 01:19:40   \n",
       "...                    ...                  ...   \n",
       "11710  1091789851282665472  2019-02-02 20:05:59   \n",
       "11711  1091772144927666176  2019-02-02 18:55:38   \n",
       "11712  1091425960606367745  2019-02-01 20:00:01   \n",
       "11713  1091417463512678400  2019-02-01 19:26:15   \n",
       "11714  1091415822495436801  2019-02-01 19:19:44   \n",
       "\n",
       "                                                    text  \n",
       "0                   @Steff88979267 tell them to h*ck off  \n",
       "1                              @NFLOwnerGBP take it back  \n",
       "2      This is Louie. He has misplaced his Cheerio. W...  \n",
       "3                                    @rachaellanaghan ❤️  \n",
       "4      This is Captain Jack Wobbles. He is currently ...  \n",
       "...                                                  ...  \n",
       "11710  This is Cadogan. He’s had the same morning rou...  \n",
       "11711                           @mayapolarbear 6/5 stars  \n",
       "11712                                  @Acallofthevoid 🤗  \n",
       "11713  @jaytay777 OLIVER!!! you’re doing so well budd...  \n",
       "11714  @hyqnotised she’ll sort through all offers lat...  \n",
       "\n",
       "[11715 rows x 3 columns]"
      ]
     },
     "execution_count": 3,
     "metadata": {},
     "output_type": "execute_result"
    }
   ],
   "source": [
    "data"
   ]
  },
  {
   "cell_type": "markdown",
   "id": "72a3122f",
   "metadata": {},
   "source": [
    "## Part 2: Find tweets that contain an “n/10” rating. Extract the numeric rating. Exclude tweets that don't contain a rating."
   ]
  },
  {
   "cell_type": "code",
   "execution_count": 4,
   "id": "1806a7c2",
   "metadata": {},
   "outputs": [],
   "source": [
    "import re"
   ]
  },
  {
   "cell_type": "code",
   "execution_count": 5,
   "id": "cb112c35",
   "metadata": {},
   "outputs": [],
   "source": [
    "matching = data.text.str.extract(r'(\\d+(\\.\\d+)?)/10', expand = True)\n",
    "# Adapted from https://chrisalbon.com/python/data_wrangling/pandas_regex_to_create_columns/"
   ]
  },
  {
   "cell_type": "code",
   "execution_count": 6,
   "id": "cb257bc1",
   "metadata": {},
   "outputs": [
    {
     "data": {
      "text/html": [
       "<div>\n",
       "<style scoped>\n",
       "    .dataframe tbody tr th:only-of-type {\n",
       "        vertical-align: middle;\n",
       "    }\n",
       "\n",
       "    .dataframe tbody tr th {\n",
       "        vertical-align: top;\n",
       "    }\n",
       "\n",
       "    .dataframe thead th {\n",
       "        text-align: right;\n",
       "    }\n",
       "</style>\n",
       "<table border=\"1\" class=\"dataframe\">\n",
       "  <thead>\n",
       "    <tr style=\"text-align: right;\">\n",
       "      <th></th>\n",
       "      <th>0</th>\n",
       "      <th>1</th>\n",
       "    </tr>\n",
       "  </thead>\n",
       "  <tbody>\n",
       "    <tr>\n",
       "      <th>0</th>\n",
       "      <td>NaN</td>\n",
       "      <td>NaN</td>\n",
       "    </tr>\n",
       "    <tr>\n",
       "      <th>1</th>\n",
       "      <td>NaN</td>\n",
       "      <td>NaN</td>\n",
       "    </tr>\n",
       "    <tr>\n",
       "      <th>2</th>\n",
       "      <td>14</td>\n",
       "      <td>NaN</td>\n",
       "    </tr>\n",
       "    <tr>\n",
       "      <th>3</th>\n",
       "      <td>NaN</td>\n",
       "      <td>NaN</td>\n",
       "    </tr>\n",
       "    <tr>\n",
       "      <th>4</th>\n",
       "      <td>NaN</td>\n",
       "      <td>NaN</td>\n",
       "    </tr>\n",
       "    <tr>\n",
       "      <th>...</th>\n",
       "      <td>...</td>\n",
       "      <td>...</td>\n",
       "    </tr>\n",
       "    <tr>\n",
       "      <th>11710</th>\n",
       "      <td>NaN</td>\n",
       "      <td>NaN</td>\n",
       "    </tr>\n",
       "    <tr>\n",
       "      <th>11711</th>\n",
       "      <td>NaN</td>\n",
       "      <td>NaN</td>\n",
       "    </tr>\n",
       "    <tr>\n",
       "      <th>11712</th>\n",
       "      <td>NaN</td>\n",
       "      <td>NaN</td>\n",
       "    </tr>\n",
       "    <tr>\n",
       "      <th>11713</th>\n",
       "      <td>NaN</td>\n",
       "      <td>NaN</td>\n",
       "    </tr>\n",
       "    <tr>\n",
       "      <th>11714</th>\n",
       "      <td>NaN</td>\n",
       "      <td>NaN</td>\n",
       "    </tr>\n",
       "  </tbody>\n",
       "</table>\n",
       "<p>11715 rows × 2 columns</p>\n",
       "</div>"
      ],
      "text/plain": [
       "         0    1\n",
       "0      NaN  NaN\n",
       "1      NaN  NaN\n",
       "2       14  NaN\n",
       "3      NaN  NaN\n",
       "4      NaN  NaN\n",
       "...    ...  ...\n",
       "11710  NaN  NaN\n",
       "11711  NaN  NaN\n",
       "11712  NaN  NaN\n",
       "11713  NaN  NaN\n",
       "11714  NaN  NaN\n",
       "\n",
       "[11715 rows x 2 columns]"
      ]
     },
     "execution_count": 6,
     "metadata": {},
     "output_type": "execute_result"
    }
   ],
   "source": [
    "matching"
   ]
  },
  {
   "cell_type": "code",
   "execution_count": 7,
   "id": "a2e26047",
   "metadata": {},
   "outputs": [],
   "source": [
    "rating = matching[matching[0].notnull()][0]"
   ]
  },
  {
   "cell_type": "code",
   "execution_count": 8,
   "id": "f2efd7e6",
   "metadata": {},
   "outputs": [],
   "source": [
    "rating = pd.to_numeric(rating)"
   ]
  },
  {
   "cell_type": "code",
   "execution_count": 9,
   "id": "26d01bd9",
   "metadata": {},
   "outputs": [
    {
     "data": {
      "text/plain": [
       "2        14.0\n",
       "7        13.0\n",
       "8        14.0\n",
       "24       13.0\n",
       "30       13.0\n",
       "         ... \n",
       "11631    15.0\n",
       "11638    14.0\n",
       "11665    13.0\n",
       "11666    13.0\n",
       "11672    12.0\n",
       "Name: 0, Length: 1877, dtype: float64"
      ]
     },
     "execution_count": 9,
     "metadata": {},
     "output_type": "execute_result"
    }
   ],
   "source": [
    "rating"
   ]
  },
  {
   "cell_type": "code",
   "execution_count": 10,
   "id": "cb93681d",
   "metadata": {},
   "outputs": [],
   "source": [
    "data['rating'] = rating"
   ]
  },
  {
   "cell_type": "code",
   "execution_count": 11,
   "id": "ec6dd2a3",
   "metadata": {},
   "outputs": [
    {
     "data": {
      "text/html": [
       "<div>\n",
       "<style scoped>\n",
       "    .dataframe tbody tr th:only-of-type {\n",
       "        vertical-align: middle;\n",
       "    }\n",
       "\n",
       "    .dataframe tbody tr th {\n",
       "        vertical-align: top;\n",
       "    }\n",
       "\n",
       "    .dataframe thead th {\n",
       "        text-align: right;\n",
       "    }\n",
       "</style>\n",
       "<table border=\"1\" class=\"dataframe\">\n",
       "  <thead>\n",
       "    <tr style=\"text-align: right;\">\n",
       "      <th></th>\n",
       "      <th>id</th>\n",
       "      <th>created_at</th>\n",
       "      <th>text</th>\n",
       "      <th>rating</th>\n",
       "    </tr>\n",
       "  </thead>\n",
       "  <tbody>\n",
       "    <tr>\n",
       "      <th>0</th>\n",
       "      <td>994677639364403200</td>\n",
       "      <td>2018-05-10 20:36:44</td>\n",
       "      <td>@Steff88979267 tell them to h*ck off</td>\n",
       "      <td>NaN</td>\n",
       "    </tr>\n",
       "    <tr>\n",
       "      <th>1</th>\n",
       "      <td>994364904978239488</td>\n",
       "      <td>2018-05-09 23:54:02</td>\n",
       "      <td>@NFLOwnerGBP take it back</td>\n",
       "      <td>NaN</td>\n",
       "    </tr>\n",
       "    <tr>\n",
       "      <th>2</th>\n",
       "      <td>994363623421153280</td>\n",
       "      <td>2018-05-09 23:48:56</td>\n",
       "      <td>This is Louie. He has misplaced his Cheerio. W...</td>\n",
       "      <td>14.0</td>\n",
       "    </tr>\n",
       "    <tr>\n",
       "      <th>3</th>\n",
       "      <td>994336722875047936</td>\n",
       "      <td>2018-05-09 22:02:03</td>\n",
       "      <td>@rachaellanaghan ❤️</td>\n",
       "      <td>NaN</td>\n",
       "    </tr>\n",
       "    <tr>\n",
       "      <th>4</th>\n",
       "      <td>994024065982717952</td>\n",
       "      <td>2018-05-09 01:19:40</td>\n",
       "      <td>This is Captain Jack Wobbles. He is currently ...</td>\n",
       "      <td>NaN</td>\n",
       "    </tr>\n",
       "    <tr>\n",
       "      <th>...</th>\n",
       "      <td>...</td>\n",
       "      <td>...</td>\n",
       "      <td>...</td>\n",
       "      <td>...</td>\n",
       "    </tr>\n",
       "    <tr>\n",
       "      <th>11710</th>\n",
       "      <td>1091789851282665472</td>\n",
       "      <td>2019-02-02 20:05:59</td>\n",
       "      <td>This is Cadogan. He’s had the same morning rou...</td>\n",
       "      <td>NaN</td>\n",
       "    </tr>\n",
       "    <tr>\n",
       "      <th>11711</th>\n",
       "      <td>1091772144927666176</td>\n",
       "      <td>2019-02-02 18:55:38</td>\n",
       "      <td>@mayapolarbear 6/5 stars</td>\n",
       "      <td>NaN</td>\n",
       "    </tr>\n",
       "    <tr>\n",
       "      <th>11712</th>\n",
       "      <td>1091425960606367745</td>\n",
       "      <td>2019-02-01 20:00:01</td>\n",
       "      <td>@Acallofthevoid 🤗</td>\n",
       "      <td>NaN</td>\n",
       "    </tr>\n",
       "    <tr>\n",
       "      <th>11713</th>\n",
       "      <td>1091417463512678400</td>\n",
       "      <td>2019-02-01 19:26:15</td>\n",
       "      <td>@jaytay777 OLIVER!!! you’re doing so well budd...</td>\n",
       "      <td>NaN</td>\n",
       "    </tr>\n",
       "    <tr>\n",
       "      <th>11714</th>\n",
       "      <td>1091415822495436801</td>\n",
       "      <td>2019-02-01 19:19:44</td>\n",
       "      <td>@hyqnotised she’ll sort through all offers lat...</td>\n",
       "      <td>NaN</td>\n",
       "    </tr>\n",
       "  </tbody>\n",
       "</table>\n",
       "<p>11715 rows × 4 columns</p>\n",
       "</div>"
      ],
      "text/plain": [
       "                        id           created_at  \\\n",
       "0       994677639364403200  2018-05-10 20:36:44   \n",
       "1       994364904978239488  2018-05-09 23:54:02   \n",
       "2       994363623421153280  2018-05-09 23:48:56   \n",
       "3       994336722875047936  2018-05-09 22:02:03   \n",
       "4       994024065982717952  2018-05-09 01:19:40   \n",
       "...                    ...                  ...   \n",
       "11710  1091789851282665472  2019-02-02 20:05:59   \n",
       "11711  1091772144927666176  2019-02-02 18:55:38   \n",
       "11712  1091425960606367745  2019-02-01 20:00:01   \n",
       "11713  1091417463512678400  2019-02-01 19:26:15   \n",
       "11714  1091415822495436801  2019-02-01 19:19:44   \n",
       "\n",
       "                                                    text  rating  \n",
       "0                   @Steff88979267 tell them to h*ck off     NaN  \n",
       "1                              @NFLOwnerGBP take it back     NaN  \n",
       "2      This is Louie. He has misplaced his Cheerio. W...    14.0  \n",
       "3                                    @rachaellanaghan ❤️     NaN  \n",
       "4      This is Captain Jack Wobbles. He is currently ...     NaN  \n",
       "...                                                  ...     ...  \n",
       "11710  This is Cadogan. He’s had the same morning rou...     NaN  \n",
       "11711                           @mayapolarbear 6/5 stars     NaN  \n",
       "11712                                  @Acallofthevoid 🤗     NaN  \n",
       "11713  @jaytay777 OLIVER!!! you’re doing so well budd...     NaN  \n",
       "11714  @hyqnotised she’ll sort through all offers lat...     NaN  \n",
       "\n",
       "[11715 rows x 4 columns]"
      ]
     },
     "execution_count": 11,
     "metadata": {},
     "output_type": "execute_result"
    }
   ],
   "source": [
    "data"
   ]
  },
  {
   "cell_type": "markdown",
   "id": "b0869f8c",
   "metadata": {},
   "source": [
    "## Part 3: Remove outliers: there are a few obvious ones. Exclude rating values that are too large to make sense."
   ]
  },
  {
   "cell_type": "code",
   "execution_count": 12,
   "id": "012d54b3",
   "metadata": {},
   "outputs": [],
   "source": [
    "rating = rating[rating < 25]"
   ]
  },
  {
   "cell_type": "code",
   "execution_count": 13,
   "id": "14de70f6",
   "metadata": {},
   "outputs": [
    {
     "data": {
      "text/plain": [
       "2        14.0\n",
       "7        13.0\n",
       "8        14.0\n",
       "24       13.0\n",
       "30       13.0\n",
       "         ... \n",
       "11631    15.0\n",
       "11638    14.0\n",
       "11665    13.0\n",
       "11666    13.0\n",
       "11672    12.0\n",
       "Name: 0, Length: 1871, dtype: float64"
      ]
     },
     "execution_count": 13,
     "metadata": {},
     "output_type": "execute_result"
    }
   ],
   "source": [
    "rating"
   ]
  },
  {
   "cell_type": "code",
   "execution_count": 14,
   "id": "db804ba8",
   "metadata": {},
   "outputs": [],
   "source": [
    "data['rating'] = rating"
   ]
  },
  {
   "cell_type": "code",
   "execution_count": 15,
   "id": "c648eb6c",
   "metadata": {},
   "outputs": [
    {
     "data": {
      "text/html": [
       "<div>\n",
       "<style scoped>\n",
       "    .dataframe tbody tr th:only-of-type {\n",
       "        vertical-align: middle;\n",
       "    }\n",
       "\n",
       "    .dataframe tbody tr th {\n",
       "        vertical-align: top;\n",
       "    }\n",
       "\n",
       "    .dataframe thead th {\n",
       "        text-align: right;\n",
       "    }\n",
       "</style>\n",
       "<table border=\"1\" class=\"dataframe\">\n",
       "  <thead>\n",
       "    <tr style=\"text-align: right;\">\n",
       "      <th></th>\n",
       "      <th>id</th>\n",
       "      <th>created_at</th>\n",
       "      <th>text</th>\n",
       "      <th>rating</th>\n",
       "    </tr>\n",
       "  </thead>\n",
       "  <tbody>\n",
       "    <tr>\n",
       "      <th>0</th>\n",
       "      <td>994677639364403200</td>\n",
       "      <td>2018-05-10 20:36:44</td>\n",
       "      <td>@Steff88979267 tell them to h*ck off</td>\n",
       "      <td>NaN</td>\n",
       "    </tr>\n",
       "    <tr>\n",
       "      <th>1</th>\n",
       "      <td>994364904978239488</td>\n",
       "      <td>2018-05-09 23:54:02</td>\n",
       "      <td>@NFLOwnerGBP take it back</td>\n",
       "      <td>NaN</td>\n",
       "    </tr>\n",
       "    <tr>\n",
       "      <th>2</th>\n",
       "      <td>994363623421153280</td>\n",
       "      <td>2018-05-09 23:48:56</td>\n",
       "      <td>This is Louie. He has misplaced his Cheerio. W...</td>\n",
       "      <td>14.0</td>\n",
       "    </tr>\n",
       "    <tr>\n",
       "      <th>3</th>\n",
       "      <td>994336722875047936</td>\n",
       "      <td>2018-05-09 22:02:03</td>\n",
       "      <td>@rachaellanaghan ❤️</td>\n",
       "      <td>NaN</td>\n",
       "    </tr>\n",
       "    <tr>\n",
       "      <th>4</th>\n",
       "      <td>994024065982717952</td>\n",
       "      <td>2018-05-09 01:19:40</td>\n",
       "      <td>This is Captain Jack Wobbles. He is currently ...</td>\n",
       "      <td>NaN</td>\n",
       "    </tr>\n",
       "    <tr>\n",
       "      <th>...</th>\n",
       "      <td>...</td>\n",
       "      <td>...</td>\n",
       "      <td>...</td>\n",
       "      <td>...</td>\n",
       "    </tr>\n",
       "    <tr>\n",
       "      <th>11710</th>\n",
       "      <td>1091789851282665472</td>\n",
       "      <td>2019-02-02 20:05:59</td>\n",
       "      <td>This is Cadogan. He’s had the same morning rou...</td>\n",
       "      <td>NaN</td>\n",
       "    </tr>\n",
       "    <tr>\n",
       "      <th>11711</th>\n",
       "      <td>1091772144927666176</td>\n",
       "      <td>2019-02-02 18:55:38</td>\n",
       "      <td>@mayapolarbear 6/5 stars</td>\n",
       "      <td>NaN</td>\n",
       "    </tr>\n",
       "    <tr>\n",
       "      <th>11712</th>\n",
       "      <td>1091425960606367745</td>\n",
       "      <td>2019-02-01 20:00:01</td>\n",
       "      <td>@Acallofthevoid 🤗</td>\n",
       "      <td>NaN</td>\n",
       "    </tr>\n",
       "    <tr>\n",
       "      <th>11713</th>\n",
       "      <td>1091417463512678400</td>\n",
       "      <td>2019-02-01 19:26:15</td>\n",
       "      <td>@jaytay777 OLIVER!!! you’re doing so well budd...</td>\n",
       "      <td>NaN</td>\n",
       "    </tr>\n",
       "    <tr>\n",
       "      <th>11714</th>\n",
       "      <td>1091415822495436801</td>\n",
       "      <td>2019-02-01 19:19:44</td>\n",
       "      <td>@hyqnotised she’ll sort through all offers lat...</td>\n",
       "      <td>NaN</td>\n",
       "    </tr>\n",
       "  </tbody>\n",
       "</table>\n",
       "<p>11715 rows × 4 columns</p>\n",
       "</div>"
      ],
      "text/plain": [
       "                        id           created_at  \\\n",
       "0       994677639364403200  2018-05-10 20:36:44   \n",
       "1       994364904978239488  2018-05-09 23:54:02   \n",
       "2       994363623421153280  2018-05-09 23:48:56   \n",
       "3       994336722875047936  2018-05-09 22:02:03   \n",
       "4       994024065982717952  2018-05-09 01:19:40   \n",
       "...                    ...                  ...   \n",
       "11710  1091789851282665472  2019-02-02 20:05:59   \n",
       "11711  1091772144927666176  2019-02-02 18:55:38   \n",
       "11712  1091425960606367745  2019-02-01 20:00:01   \n",
       "11713  1091417463512678400  2019-02-01 19:26:15   \n",
       "11714  1091415822495436801  2019-02-01 19:19:44   \n",
       "\n",
       "                                                    text  rating  \n",
       "0                   @Steff88979267 tell them to h*ck off     NaN  \n",
       "1                              @NFLOwnerGBP take it back     NaN  \n",
       "2      This is Louie. He has misplaced his Cheerio. W...    14.0  \n",
       "3                                    @rachaellanaghan ❤️     NaN  \n",
       "4      This is Captain Jack Wobbles. He is currently ...     NaN  \n",
       "...                                                  ...     ...  \n",
       "11710  This is Cadogan. He’s had the same morning rou...     NaN  \n",
       "11711                           @mayapolarbear 6/5 stars     NaN  \n",
       "11712                                  @Acallofthevoid 🤗     NaN  \n",
       "11713  @jaytay777 OLIVER!!! you’re doing so well budd...     NaN  \n",
       "11714  @hyqnotised she’ll sort through all offers lat...     NaN  \n",
       "\n",
       "[11715 rows x 4 columns]"
      ]
     },
     "execution_count": 15,
     "metadata": {},
     "output_type": "execute_result"
    }
   ],
   "source": [
    "data"
   ]
  },
  {
   "cell_type": "code",
   "execution_count": 16,
   "id": "5252a797",
   "metadata": {},
   "outputs": [],
   "source": [
    "data = data.loc[rating.index]"
   ]
  },
  {
   "cell_type": "code",
   "execution_count": 17,
   "id": "51a32f88",
   "metadata": {},
   "outputs": [
    {
     "data": {
      "text/html": [
       "<div>\n",
       "<style scoped>\n",
       "    .dataframe tbody tr th:only-of-type {\n",
       "        vertical-align: middle;\n",
       "    }\n",
       "\n",
       "    .dataframe tbody tr th {\n",
       "        vertical-align: top;\n",
       "    }\n",
       "\n",
       "    .dataframe thead th {\n",
       "        text-align: right;\n",
       "    }\n",
       "</style>\n",
       "<table border=\"1\" class=\"dataframe\">\n",
       "  <thead>\n",
       "    <tr style=\"text-align: right;\">\n",
       "      <th></th>\n",
       "      <th>id</th>\n",
       "      <th>created_at</th>\n",
       "      <th>text</th>\n",
       "      <th>rating</th>\n",
       "    </tr>\n",
       "  </thead>\n",
       "  <tbody>\n",
       "    <tr>\n",
       "      <th>2</th>\n",
       "      <td>994363623421153280</td>\n",
       "      <td>2018-05-09 23:48:56</td>\n",
       "      <td>This is Louie. He has misplaced his Cheerio. W...</td>\n",
       "      <td>14.0</td>\n",
       "    </tr>\n",
       "    <tr>\n",
       "      <th>7</th>\n",
       "      <td>993889039714578432</td>\n",
       "      <td>2018-05-08 16:23:07</td>\n",
       "      <td>This is Manny. He hasn’t seen your croissant. ...</td>\n",
       "      <td>13.0</td>\n",
       "    </tr>\n",
       "    <tr>\n",
       "      <th>8</th>\n",
       "      <td>993629544463642624</td>\n",
       "      <td>2018-05-07 23:11:58</td>\n",
       "      <td>This is Libby. She leap. 14/10\\n(IG: libbythef...</td>\n",
       "      <td>14.0</td>\n",
       "    </tr>\n",
       "    <tr>\n",
       "      <th>24</th>\n",
       "      <td>992198572664860672</td>\n",
       "      <td>2018-05-04 00:25:48</td>\n",
       "      <td>This is Rosie. She thought Coachella was this ...</td>\n",
       "      <td>13.0</td>\n",
       "    </tr>\n",
       "    <tr>\n",
       "      <th>30</th>\n",
       "      <td>991744041351090177</td>\n",
       "      <td>2018-05-02 18:19:39</td>\n",
       "      <td>This is Riley. He’ll be your chauffeur this ev...</td>\n",
       "      <td>13.0</td>\n",
       "    </tr>\n",
       "    <tr>\n",
       "      <th>...</th>\n",
       "      <td>...</td>\n",
       "      <td>...</td>\n",
       "      <td>...</td>\n",
       "      <td>...</td>\n",
       "    </tr>\n",
       "    <tr>\n",
       "      <th>11631</th>\n",
       "      <td>1096203765189726208</td>\n",
       "      <td>2019-02-15 00:25:18</td>\n",
       "      <td>honorary 15/10 for Oppy, the very good space r...</td>\n",
       "      <td>15.0</td>\n",
       "    </tr>\n",
       "    <tr>\n",
       "      <th>11638</th>\n",
       "      <td>1095730341828915200</td>\n",
       "      <td>2019-02-13 17:04:05</td>\n",
       "      <td>This is George. He doesn’t chew socks. He just...</td>\n",
       "      <td>14.0</td>\n",
       "    </tr>\n",
       "    <tr>\n",
       "      <th>11665</th>\n",
       "      <td>1093636946046242817</td>\n",
       "      <td>2019-02-07 22:25:41</td>\n",
       "      <td>@Panthers @Proud_KCS 13/10 easy</td>\n",
       "      <td>13.0</td>\n",
       "    </tr>\n",
       "    <tr>\n",
       "      <th>11666</th>\n",
       "      <td>1093636812818472960</td>\n",
       "      <td>2019-02-07 22:25:09</td>\n",
       "      <td>RT @GeekandSundry: .@Dog_Rates Announces a New...</td>\n",
       "      <td>13.0</td>\n",
       "    </tr>\n",
       "    <tr>\n",
       "      <th>11672</th>\n",
       "      <td>1093315910369107968</td>\n",
       "      <td>2019-02-07 01:10:00</td>\n",
       "      <td>This is Missy. These are her best angles. She ...</td>\n",
       "      <td>12.0</td>\n",
       "    </tr>\n",
       "  </tbody>\n",
       "</table>\n",
       "<p>1871 rows × 4 columns</p>\n",
       "</div>"
      ],
      "text/plain": [
       "                        id           created_at  \\\n",
       "2       994363623421153280  2018-05-09 23:48:56   \n",
       "7       993889039714578432  2018-05-08 16:23:07   \n",
       "8       993629544463642624  2018-05-07 23:11:58   \n",
       "24      992198572664860672  2018-05-04 00:25:48   \n",
       "30      991744041351090177  2018-05-02 18:19:39   \n",
       "...                    ...                  ...   \n",
       "11631  1096203765189726208  2019-02-15 00:25:18   \n",
       "11638  1095730341828915200  2019-02-13 17:04:05   \n",
       "11665  1093636946046242817  2019-02-07 22:25:41   \n",
       "11666  1093636812818472960  2019-02-07 22:25:09   \n",
       "11672  1093315910369107968  2019-02-07 01:10:00   \n",
       "\n",
       "                                                    text  rating  \n",
       "2      This is Louie. He has misplaced his Cheerio. W...    14.0  \n",
       "7      This is Manny. He hasn’t seen your croissant. ...    13.0  \n",
       "8      This is Libby. She leap. 14/10\\n(IG: libbythef...    14.0  \n",
       "24     This is Rosie. She thought Coachella was this ...    13.0  \n",
       "30     This is Riley. He’ll be your chauffeur this ev...    13.0  \n",
       "...                                                  ...     ...  \n",
       "11631  honorary 15/10 for Oppy, the very good space r...    15.0  \n",
       "11638  This is George. He doesn’t chew socks. He just...    14.0  \n",
       "11665                    @Panthers @Proud_KCS 13/10 easy    13.0  \n",
       "11666  RT @GeekandSundry: .@Dog_Rates Announces a New...    13.0  \n",
       "11672  This is Missy. These are her best angles. She ...    12.0  \n",
       "\n",
       "[1871 rows x 4 columns]"
      ]
     },
     "execution_count": 17,
     "metadata": {},
     "output_type": "execute_result"
    }
   ],
   "source": [
    "data"
   ]
  },
  {
   "cell_type": "markdown",
   "id": "39128293",
   "metadata": {},
   "source": [
    "## Part 4: Make sure the 'created_at' column is a datetime value, not a string."
   ]
  },
  {
   "cell_type": "code",
   "execution_count": 18,
   "id": "72adcaaa",
   "metadata": {},
   "outputs": [],
   "source": [
    "from datetime import datetime"
   ]
  },
  {
   "cell_type": "code",
   "execution_count": 19,
   "id": "e72a4bed",
   "metadata": {},
   "outputs": [],
   "source": [
    "data['created_at'] = pd.to_datetime(data['created_at'], format = \"%Y-%m-%d %H:%M:%S\")"
   ]
  },
  {
   "cell_type": "code",
   "execution_count": 20,
   "id": "7bc1d662",
   "metadata": {},
   "outputs": [
    {
     "data": {
      "text/html": [
       "<div>\n",
       "<style scoped>\n",
       "    .dataframe tbody tr th:only-of-type {\n",
       "        vertical-align: middle;\n",
       "    }\n",
       "\n",
       "    .dataframe tbody tr th {\n",
       "        vertical-align: top;\n",
       "    }\n",
       "\n",
       "    .dataframe thead th {\n",
       "        text-align: right;\n",
       "    }\n",
       "</style>\n",
       "<table border=\"1\" class=\"dataframe\">\n",
       "  <thead>\n",
       "    <tr style=\"text-align: right;\">\n",
       "      <th></th>\n",
       "      <th>id</th>\n",
       "      <th>created_at</th>\n",
       "      <th>text</th>\n",
       "      <th>rating</th>\n",
       "    </tr>\n",
       "  </thead>\n",
       "  <tbody>\n",
       "    <tr>\n",
       "      <th>2</th>\n",
       "      <td>994363623421153280</td>\n",
       "      <td>2018-05-09 23:48:56</td>\n",
       "      <td>This is Louie. He has misplaced his Cheerio. W...</td>\n",
       "      <td>14.0</td>\n",
       "    </tr>\n",
       "    <tr>\n",
       "      <th>7</th>\n",
       "      <td>993889039714578432</td>\n",
       "      <td>2018-05-08 16:23:07</td>\n",
       "      <td>This is Manny. He hasn’t seen your croissant. ...</td>\n",
       "      <td>13.0</td>\n",
       "    </tr>\n",
       "    <tr>\n",
       "      <th>8</th>\n",
       "      <td>993629544463642624</td>\n",
       "      <td>2018-05-07 23:11:58</td>\n",
       "      <td>This is Libby. She leap. 14/10\\n(IG: libbythef...</td>\n",
       "      <td>14.0</td>\n",
       "    </tr>\n",
       "    <tr>\n",
       "      <th>24</th>\n",
       "      <td>992198572664860672</td>\n",
       "      <td>2018-05-04 00:25:48</td>\n",
       "      <td>This is Rosie. She thought Coachella was this ...</td>\n",
       "      <td>13.0</td>\n",
       "    </tr>\n",
       "    <tr>\n",
       "      <th>30</th>\n",
       "      <td>991744041351090177</td>\n",
       "      <td>2018-05-02 18:19:39</td>\n",
       "      <td>This is Riley. He’ll be your chauffeur this ev...</td>\n",
       "      <td>13.0</td>\n",
       "    </tr>\n",
       "    <tr>\n",
       "      <th>...</th>\n",
       "      <td>...</td>\n",
       "      <td>...</td>\n",
       "      <td>...</td>\n",
       "      <td>...</td>\n",
       "    </tr>\n",
       "    <tr>\n",
       "      <th>11631</th>\n",
       "      <td>1096203765189726208</td>\n",
       "      <td>2019-02-15 00:25:18</td>\n",
       "      <td>honorary 15/10 for Oppy, the very good space r...</td>\n",
       "      <td>15.0</td>\n",
       "    </tr>\n",
       "    <tr>\n",
       "      <th>11638</th>\n",
       "      <td>1095730341828915200</td>\n",
       "      <td>2019-02-13 17:04:05</td>\n",
       "      <td>This is George. He doesn’t chew socks. He just...</td>\n",
       "      <td>14.0</td>\n",
       "    </tr>\n",
       "    <tr>\n",
       "      <th>11665</th>\n",
       "      <td>1093636946046242817</td>\n",
       "      <td>2019-02-07 22:25:41</td>\n",
       "      <td>@Panthers @Proud_KCS 13/10 easy</td>\n",
       "      <td>13.0</td>\n",
       "    </tr>\n",
       "    <tr>\n",
       "      <th>11666</th>\n",
       "      <td>1093636812818472960</td>\n",
       "      <td>2019-02-07 22:25:09</td>\n",
       "      <td>RT @GeekandSundry: .@Dog_Rates Announces a New...</td>\n",
       "      <td>13.0</td>\n",
       "    </tr>\n",
       "    <tr>\n",
       "      <th>11672</th>\n",
       "      <td>1093315910369107968</td>\n",
       "      <td>2019-02-07 01:10:00</td>\n",
       "      <td>This is Missy. These are her best angles. She ...</td>\n",
       "      <td>12.0</td>\n",
       "    </tr>\n",
       "  </tbody>\n",
       "</table>\n",
       "<p>1871 rows × 4 columns</p>\n",
       "</div>"
      ],
      "text/plain": [
       "                        id          created_at  \\\n",
       "2       994363623421153280 2018-05-09 23:48:56   \n",
       "7       993889039714578432 2018-05-08 16:23:07   \n",
       "8       993629544463642624 2018-05-07 23:11:58   \n",
       "24      992198572664860672 2018-05-04 00:25:48   \n",
       "30      991744041351090177 2018-05-02 18:19:39   \n",
       "...                    ...                 ...   \n",
       "11631  1096203765189726208 2019-02-15 00:25:18   \n",
       "11638  1095730341828915200 2019-02-13 17:04:05   \n",
       "11665  1093636946046242817 2019-02-07 22:25:41   \n",
       "11666  1093636812818472960 2019-02-07 22:25:09   \n",
       "11672  1093315910369107968 2019-02-07 01:10:00   \n",
       "\n",
       "                                                    text  rating  \n",
       "2      This is Louie. He has misplaced his Cheerio. W...    14.0  \n",
       "7      This is Manny. He hasn’t seen your croissant. ...    13.0  \n",
       "8      This is Libby. She leap. 14/10\\n(IG: libbythef...    14.0  \n",
       "24     This is Rosie. She thought Coachella was this ...    13.0  \n",
       "30     This is Riley. He’ll be your chauffeur this ev...    13.0  \n",
       "...                                                  ...     ...  \n",
       "11631  honorary 15/10 for Oppy, the very good space r...    15.0  \n",
       "11638  This is George. He doesn’t chew socks. He just...    14.0  \n",
       "11665                    @Panthers @Proud_KCS 13/10 easy    13.0  \n",
       "11666  RT @GeekandSundry: .@Dog_Rates Announces a New...    13.0  \n",
       "11672  This is Missy. These are her best angles. She ...    12.0  \n",
       "\n",
       "[1871 rows x 4 columns]"
      ]
     },
     "execution_count": 20,
     "metadata": {},
     "output_type": "execute_result"
    }
   ],
   "source": [
    "data"
   ]
  },
  {
   "cell_type": "markdown",
   "id": "0fd69f85",
   "metadata": {},
   "source": [
    "## Part 5: Create a scatter plot of date vs rating, so you can see what the data looks like."
   ]
  },
  {
   "cell_type": "code",
   "execution_count": 21,
   "id": "f4bae089",
   "metadata": {},
   "outputs": [],
   "source": [
    "import matplotlib.pyplot as plt"
   ]
  },
  {
   "cell_type": "code",
   "execution_count": 22,
   "id": "ce2f3097",
   "metadata": {},
   "outputs": [
    {
     "data": {
      "image/png": "[encoded data removed]",
      "text/plain": [
       "<Figure size 432x288 with 1 Axes>"
      ]
     },
     "metadata": {
      "needs_background": "light"
     },
     "output_type": "display_data"
    }
   ],
   "source": [
    "plt.xticks(rotation=25)\n",
    "plt.scatter(data['created_at'], data['rating'], c = 'b', s = 10)\n",
    "plt.title('Figure 1: Date vs Rating')\n",
    "plt.xlabel('Date')\n",
    "plt.ylabel('Rating')\n",
    "plt.show()"
   ]
  },
  {
   "cell_type": "markdown",
   "id": "e54f2523",
   "metadata": {},
   "source": [
    "# II. Linear Fitting"
   ]
  },
  {
   "cell_type": "markdown",
   "id": "f6b3788f",
   "metadata": {},
   "source": [
    "## Part 1: Datetime objects have a .timestamp() method that will give us a number (of seconds after some epoch), but we need to get that into our data before using it. "
   ]
  },
  {
   "cell_type": "code",
   "execution_count": 23,
   "id": "805a19b2",
   "metadata": {},
   "outputs": [],
   "source": [
    "def to_timestamp(dataFrame):\n",
    "    return dataFrame.timestamp()\n",
    "data['timestamp'] = data['created_at'].apply(to_timestamp)"
   ]
  },
  {
   "cell_type": "code",
   "execution_count": 24,
   "id": "7aca8582",
   "metadata": {},
   "outputs": [
    {
     "data": {
      "text/html": [
       "<div>\n",
       "<style scoped>\n",
       "    .dataframe tbody tr th:only-of-type {\n",
       "        vertical-align: middle;\n",
       "    }\n",
       "\n",
       "    .dataframe tbody tr th {\n",
       "        vertical-align: top;\n",
       "    }\n",
       "\n",
       "    .dataframe thead th {\n",
       "        text-align: right;\n",
       "    }\n",
       "</style>\n",
       "<table border=\"1\" class=\"dataframe\">\n",
       "  <thead>\n",
       "    <tr style=\"text-align: right;\">\n",
       "      <th></th>\n",
       "      <th>id</th>\n",
       "      <th>created_at</th>\n",
       "      <th>text</th>\n",
       "      <th>rating</th>\n",
       "      <th>timestamp</th>\n",
       "    </tr>\n",
       "  </thead>\n",
       "  <tbody>\n",
       "    <tr>\n",
       "      <th>2</th>\n",
       "      <td>994363623421153280</td>\n",
       "      <td>2018-05-09 23:48:56</td>\n",
       "      <td>This is Louie. He has misplaced his Cheerio. W...</td>\n",
       "      <td>14.0</td>\n",
       "      <td>1.525910e+09</td>\n",
       "    </tr>\n",
       "    <tr>\n",
       "      <th>7</th>\n",
       "      <td>993889039714578432</td>\n",
       "      <td>2018-05-08 16:23:07</td>\n",
       "      <td>This is Manny. He hasn’t seen your croissant. ...</td>\n",
       "      <td>13.0</td>\n",
       "      <td>1.525797e+09</td>\n",
       "    </tr>\n",
       "    <tr>\n",
       "      <th>8</th>\n",
       "      <td>993629544463642624</td>\n",
       "      <td>2018-05-07 23:11:58</td>\n",
       "      <td>This is Libby. She leap. 14/10\\n(IG: libbythef...</td>\n",
       "      <td>14.0</td>\n",
       "      <td>1.525735e+09</td>\n",
       "    </tr>\n",
       "    <tr>\n",
       "      <th>24</th>\n",
       "      <td>992198572664860672</td>\n",
       "      <td>2018-05-04 00:25:48</td>\n",
       "      <td>This is Rosie. She thought Coachella was this ...</td>\n",
       "      <td>13.0</td>\n",
       "      <td>1.525394e+09</td>\n",
       "    </tr>\n",
       "    <tr>\n",
       "      <th>30</th>\n",
       "      <td>991744041351090177</td>\n",
       "      <td>2018-05-02 18:19:39</td>\n",
       "      <td>This is Riley. He’ll be your chauffeur this ev...</td>\n",
       "      <td>13.0</td>\n",
       "      <td>1.525285e+09</td>\n",
       "    </tr>\n",
       "    <tr>\n",
       "      <th>...</th>\n",
       "      <td>...</td>\n",
       "      <td>...</td>\n",
       "      <td>...</td>\n",
       "      <td>...</td>\n",
       "      <td>...</td>\n",
       "    </tr>\n",
       "    <tr>\n",
       "      <th>11631</th>\n",
       "      <td>1096203765189726208</td>\n",
       "      <td>2019-02-15 00:25:18</td>\n",
       "      <td>honorary 15/10 for Oppy, the very good space r...</td>\n",
       "      <td>15.0</td>\n",
       "      <td>1.550190e+09</td>\n",
       "    </tr>\n",
       "    <tr>\n",
       "      <th>11638</th>\n",
       "      <td>1095730341828915200</td>\n",
       "      <td>2019-02-13 17:04:05</td>\n",
       "      <td>This is George. He doesn’t chew socks. He just...</td>\n",
       "      <td>14.0</td>\n",
       "      <td>1.550077e+09</td>\n",
       "    </tr>\n",
       "    <tr>\n",
       "      <th>11665</th>\n",
       "      <td>1093636946046242817</td>\n",
       "      <td>2019-02-07 22:25:41</td>\n",
       "      <td>@Panthers @Proud_KCS 13/10 easy</td>\n",
       "      <td>13.0</td>\n",
       "      <td>1.549578e+09</td>\n",
       "    </tr>\n",
       "    <tr>\n",
       "      <th>11666</th>\n",
       "      <td>1093636812818472960</td>\n",
       "      <td>2019-02-07 22:25:09</td>\n",
       "      <td>RT @GeekandSundry: .@Dog_Rates Announces a New...</td>\n",
       "      <td>13.0</td>\n",
       "      <td>1.549578e+09</td>\n",
       "    </tr>\n",
       "    <tr>\n",
       "      <th>11672</th>\n",
       "      <td>1093315910369107968</td>\n",
       "      <td>2019-02-07 01:10:00</td>\n",
       "      <td>This is Missy. These are her best angles. She ...</td>\n",
       "      <td>12.0</td>\n",
       "      <td>1.549502e+09</td>\n",
       "    </tr>\n",
       "  </tbody>\n",
       "</table>\n",
       "<p>1871 rows × 5 columns</p>\n",
       "</div>"
      ],
      "text/plain": [
       "                        id          created_at  \\\n",
       "2       994363623421153280 2018-05-09 23:48:56   \n",
       "7       993889039714578432 2018-05-08 16:23:07   \n",
       "8       993629544463642624 2018-05-07 23:11:58   \n",
       "24      992198572664860672 2018-05-04 00:25:48   \n",
       "30      991744041351090177 2018-05-02 18:19:39   \n",
       "...                    ...                 ...   \n",
       "11631  1096203765189726208 2019-02-15 00:25:18   \n",
       "11638  1095730341828915200 2019-02-13 17:04:05   \n",
       "11665  1093636946046242817 2019-02-07 22:25:41   \n",
       "11666  1093636812818472960 2019-02-07 22:25:09   \n",
       "11672  1093315910369107968 2019-02-07 01:10:00   \n",
       "\n",
       "                                                    text  rating     timestamp  \n",
       "2      This is Louie. He has misplaced his Cheerio. W...    14.0  1.525910e+09  \n",
       "7      This is Manny. He hasn’t seen your croissant. ...    13.0  1.525797e+09  \n",
       "8      This is Libby. She leap. 14/10\\n(IG: libbythef...    14.0  1.525735e+09  \n",
       "24     This is Rosie. She thought Coachella was this ...    13.0  1.525394e+09  \n",
       "30     This is Riley. He’ll be your chauffeur this ev...    13.0  1.525285e+09  \n",
       "...                                                  ...     ...           ...  \n",
       "11631  honorary 15/10 for Oppy, the very good space r...    15.0  1.550190e+09  \n",
       "11638  This is George. He doesn’t chew socks. He just...    14.0  1.550077e+09  \n",
       "11665                    @Panthers @Proud_KCS 13/10 easy    13.0  1.549578e+09  \n",
       "11666  RT @GeekandSundry: .@Dog_Rates Announces a New...    13.0  1.549578e+09  \n",
       "11672  This is Missy. These are her best angles. She ...    12.0  1.549502e+09  \n",
       "\n",
       "[1871 rows x 5 columns]"
      ]
     },
     "execution_count": 24,
     "metadata": {},
     "output_type": "execute_result"
    }
   ],
   "source": [
    "data"
   ]
  },
  {
   "cell_type": "markdown",
   "id": "5d4e188f",
   "metadata": {},
   "source": [
    "## Part 2: A best-fit line."
   ]
  },
  {
   "cell_type": "code",
   "execution_count": 25,
   "id": "495c94db",
   "metadata": {},
   "outputs": [],
   "source": [
    "from scipy import stats"
   ]
  },
  {
   "cell_type": "code",
   "execution_count": 26,
   "id": "cc32f5ae",
   "metadata": {},
   "outputs": [],
   "source": [
    "fit = stats.linregress(data['timestamp'].values, data['rating'].values)\n",
    "# Adapted from https://docs.scipy.org/doc/scipy/reference/generated/scipy.stats.linregress.html"
   ]
  },
  {
   "cell_type": "code",
   "execution_count": 27,
   "id": "f8abda60",
   "metadata": {},
   "outputs": [],
   "source": [
    "data['prediction'] =  data['timestamp'] * fit.slope + fit.intercept"
   ]
  },
  {
   "cell_type": "code",
   "execution_count": 28,
   "id": "597df448",
   "metadata": {},
   "outputs": [
    {
     "data": {
      "text/html": [
       "<div>\n",
       "<style scoped>\n",
       "    .dataframe tbody tr th:only-of-type {\n",
       "        vertical-align: middle;\n",
       "    }\n",
       "\n",
       "    .dataframe tbody tr th {\n",
       "        vertical-align: top;\n",
       "    }\n",
       "\n",
       "    .dataframe thead th {\n",
       "        text-align: right;\n",
       "    }\n",
       "</style>\n",
       "<table border=\"1\" class=\"dataframe\">\n",
       "  <thead>\n",
       "    <tr style=\"text-align: right;\">\n",
       "      <th></th>\n",
       "      <th>id</th>\n",
       "      <th>created_at</th>\n",
       "      <th>text</th>\n",
       "      <th>rating</th>\n",
       "      <th>timestamp</th>\n",
       "      <th>prediction</th>\n",
       "    </tr>\n",
       "  </thead>\n",
       "  <tbody>\n",
       "    <tr>\n",
       "      <th>2</th>\n",
       "      <td>994363623421153280</td>\n",
       "      <td>2018-05-09 23:48:56</td>\n",
       "      <td>This is Louie. He has misplaced his Cheerio. W...</td>\n",
       "      <td>14.0</td>\n",
       "      <td>1.525910e+09</td>\n",
       "      <td>12.624973</td>\n",
       "    </tr>\n",
       "    <tr>\n",
       "      <th>7</th>\n",
       "      <td>993889039714578432</td>\n",
       "      <td>2018-05-08 16:23:07</td>\n",
       "      <td>This is Manny. He hasn’t seen your croissant. ...</td>\n",
       "      <td>13.0</td>\n",
       "      <td>1.525797e+09</td>\n",
       "      <td>12.622373</td>\n",
       "    </tr>\n",
       "    <tr>\n",
       "      <th>8</th>\n",
       "      <td>993629544463642624</td>\n",
       "      <td>2018-05-07 23:11:58</td>\n",
       "      <td>This is Libby. She leap. 14/10\\n(IG: libbythef...</td>\n",
       "      <td>14.0</td>\n",
       "      <td>1.525735e+09</td>\n",
       "      <td>12.620951</td>\n",
       "    </tr>\n",
       "    <tr>\n",
       "      <th>24</th>\n",
       "      <td>992198572664860672</td>\n",
       "      <td>2018-05-04 00:25:48</td>\n",
       "      <td>This is Rosie. She thought Coachella was this ...</td>\n",
       "      <td>13.0</td>\n",
       "      <td>1.525394e+09</td>\n",
       "      <td>12.613109</td>\n",
       "    </tr>\n",
       "    <tr>\n",
       "      <th>30</th>\n",
       "      <td>991744041351090177</td>\n",
       "      <td>2018-05-02 18:19:39</td>\n",
       "      <td>This is Riley. He’ll be your chauffeur this ev...</td>\n",
       "      <td>13.0</td>\n",
       "      <td>1.525285e+09</td>\n",
       "      <td>12.610619</td>\n",
       "    </tr>\n",
       "    <tr>\n",
       "      <th>...</th>\n",
       "      <td>...</td>\n",
       "      <td>...</td>\n",
       "      <td>...</td>\n",
       "      <td>...</td>\n",
       "      <td>...</td>\n",
       "      <td>...</td>\n",
       "    </tr>\n",
       "    <tr>\n",
       "      <th>11631</th>\n",
       "      <td>1096203765189726208</td>\n",
       "      <td>2019-02-15 00:25:18</td>\n",
       "      <td>honorary 15/10 for Oppy, the very good space r...</td>\n",
       "      <td>15.0</td>\n",
       "      <td>1.550190e+09</td>\n",
       "      <td>13.183014</td>\n",
       "    </tr>\n",
       "    <tr>\n",
       "      <th>11638</th>\n",
       "      <td>1095730341828915200</td>\n",
       "      <td>2019-02-13 17:04:05</td>\n",
       "      <td>This is George. He doesn’t chew socks. He just...</td>\n",
       "      <td>14.0</td>\n",
       "      <td>1.550077e+09</td>\n",
       "      <td>13.180420</td>\n",
       "    </tr>\n",
       "    <tr>\n",
       "      <th>11665</th>\n",
       "      <td>1093636946046242817</td>\n",
       "      <td>2019-02-07 22:25:41</td>\n",
       "      <td>@Panthers @Proud_KCS 13/10 easy</td>\n",
       "      <td>13.0</td>\n",
       "      <td>1.549578e+09</td>\n",
       "      <td>13.168949</td>\n",
       "    </tr>\n",
       "    <tr>\n",
       "      <th>11666</th>\n",
       "      <td>1093636812818472960</td>\n",
       "      <td>2019-02-07 22:25:09</td>\n",
       "      <td>RT @GeekandSundry: .@Dog_Rates Announces a New...</td>\n",
       "      <td>13.0</td>\n",
       "      <td>1.549578e+09</td>\n",
       "      <td>13.168949</td>\n",
       "    </tr>\n",
       "    <tr>\n",
       "      <th>11672</th>\n",
       "      <td>1093315910369107968</td>\n",
       "      <td>2019-02-07 01:10:00</td>\n",
       "      <td>This is Missy. These are her best angles. She ...</td>\n",
       "      <td>12.0</td>\n",
       "      <td>1.549502e+09</td>\n",
       "      <td>13.167190</td>\n",
       "    </tr>\n",
       "  </tbody>\n",
       "</table>\n",
       "<p>1871 rows × 6 columns</p>\n",
       "</div>"
      ],
      "text/plain": [
       "                        id          created_at  \\\n",
       "2       994363623421153280 2018-05-09 23:48:56   \n",
       "7       993889039714578432 2018-05-08 16:23:07   \n",
       "8       993629544463642624 2018-05-07 23:11:58   \n",
       "24      992198572664860672 2018-05-04 00:25:48   \n",
       "30      991744041351090177 2018-05-02 18:19:39   \n",
       "...                    ...                 ...   \n",
       "11631  1096203765189726208 2019-02-15 00:25:18   \n",
       "11638  1095730341828915200 2019-02-13 17:04:05   \n",
       "11665  1093636946046242817 2019-02-07 22:25:41   \n",
       "11666  1093636812818472960 2019-02-07 22:25:09   \n",
       "11672  1093315910369107968 2019-02-07 01:10:00   \n",
       "\n",
       "                                                    text  rating  \\\n",
       "2      This is Louie. He has misplaced his Cheerio. W...    14.0   \n",
       "7      This is Manny. He hasn’t seen your croissant. ...    13.0   \n",
       "8      This is Libby. She leap. 14/10\\n(IG: libbythef...    14.0   \n",
       "24     This is Rosie. She thought Coachella was this ...    13.0   \n",
       "30     This is Riley. He’ll be your chauffeur this ev...    13.0   \n",
       "...                                                  ...     ...   \n",
       "11631  honorary 15/10 for Oppy, the very good space r...    15.0   \n",
       "11638  This is George. He doesn’t chew socks. He just...    14.0   \n",
       "11665                    @Panthers @Proud_KCS 13/10 easy    13.0   \n",
       "11666  RT @GeekandSundry: .@Dog_Rates Announces a New...    13.0   \n",
       "11672  This is Missy. These are her best angles. She ...    12.0   \n",
       "\n",
       "          timestamp  prediction  \n",
       "2      1.525910e+09   12.624973  \n",
       "7      1.525797e+09   12.622373  \n",
       "8      1.525735e+09   12.620951  \n",
       "24     1.525394e+09   12.613109  \n",
       "30     1.525285e+09   12.610619  \n",
       "...             ...         ...  \n",
       "11631  1.550190e+09   13.183014  \n",
       "11638  1.550077e+09   13.180420  \n",
       "11665  1.549578e+09   13.168949  \n",
       "11666  1.549578e+09   13.168949  \n",
       "11672  1.549502e+09   13.167190  \n",
       "\n",
       "[1871 rows x 6 columns]"
      ]
     },
     "execution_count": 28,
     "metadata": {},
     "output_type": "execute_result"
    }
   ],
   "source": [
    "data"
   ]
  },
  {
   "cell_type": "code",
   "execution_count": 29,
   "id": "f848946c",
   "metadata": {},
   "outputs": [
    {
     "data": {
      "text/plain": [
       "(2.2983031752244575e-08, -22.445058882763483)"
      ]
     },
     "execution_count": 29,
     "metadata": {},
     "output_type": "execute_result"
    }
   ],
   "source": [
    "fit.slope, fit.intercept"
   ]
  },
  {
   "cell_type": "code",
   "execution_count": 30,
   "id": "a3c6d1d1",
   "metadata": {},
   "outputs": [
    {
     "data": {
      "image/png": "[encoded data removed]",
      "text/plain": [
       "<Figure size 432x288 with 1 Axes>"
      ]
     },
     "metadata": {
      "needs_background": "light"
     },
     "output_type": "display_data"
    }
   ],
   "source": [
    "plt.xticks(rotation=25)\n",
    "plt.plot(data['created_at'].values, data['rating'].values, 'b.', alpha=0.5)\n",
    "plt.plot(data['created_at'].values, data['prediction'].values, 'r-', linewidth=3)\n",
    "plt.title('Figure 2: Linear Fitting')\n",
    "plt.xlabel('Date')\n",
    "plt.ylabel('Rating')\n",
    "plt.show()"
   ]
  },
  {
   "cell_type": "markdown",
   "id": "82917a07",
   "metadata": {},
   "source": [
    "# III. Dog Rates Significance"
   ]
  },
  {
   "cell_type": "code",
   "execution_count": 31,
   "id": "c418d145",
   "metadata": {},
   "outputs": [
    {
     "name": "stdout",
     "output_type": "stream",
     "text": [
      "The p value of fit is 3.7938e-121.\n"
     ]
    }
   ],
   "source": [
    "print('The p value of fit is %.5g.' % fit.pvalue)"
   ]
  },
  {
   "cell_type": "code",
   "execution_count": 32,
   "id": "998b2996",
   "metadata": {},
   "outputs": [
    {
     "name": "stdout",
     "output_type": "stream",
     "text": [
      "Given the p value is less than the significance level, the slope is different from 0.\n"
     ]
    }
   ],
   "source": [
    "if (fit.pvalue < 0.05):\n",
    "    print('Given the p value is less than the significance level, the slope is different from 0.')\n",
    "else:\n",
    "    print('Given the p value is not less than the significance level, the slope is not different from 0.')"
   ]
  },
  {
   "cell_type": "code",
   "execution_count": 33,
   "id": "2c75e8d8",
   "metadata": {},
   "outputs": [],
   "source": [
    "residual = (data['rating'] - data['prediction'])"
   ]
  },
  {
   "cell_type": "code",
   "execution_count": 34,
   "id": "ff7f4c25",
   "metadata": {},
   "outputs": [
    {
     "data": {
      "text/plain": [
       "2        1.375027\n",
       "7        0.377627\n",
       "8        1.379049\n",
       "24       0.386891\n",
       "30       0.389381\n",
       "           ...   \n",
       "11631    1.816986\n",
       "11638    0.819580\n",
       "11665   -0.168949\n",
       "11666   -0.168949\n",
       "11672   -1.167190\n",
       "Length: 1871, dtype: float64"
      ]
     },
     "execution_count": 34,
     "metadata": {},
     "output_type": "execute_result"
    }
   ],
   "source": [
    "residual"
   ]
  },
  {
   "cell_type": "code",
   "execution_count": 35,
   "id": "a9b8f172",
   "metadata": {},
   "outputs": [
    {
     "data": {
      "image/png": "[encoded data removed]",
      "text/plain": [
       "<Figure size 432x288 with 1 Axes>"
      ]
     },
     "metadata": {
      "needs_background": "light"
     },
     "output_type": "display_data"
    }
   ],
   "source": [
    "plt.hist(residual, bins = 50)\n",
    "plt.title('Figure 3: Histogram of Residuals')\n",
    "plt.xlabel('Residuals')\n",
    "plt.ylabel('Frequency')\n",
    "plt.show()"
   ]
  },
  {
   "cell_type": "markdown",
   "id": "e3a05f7c",
   "metadata": {},
   "source": [
    "# IV. Q&A of Exercise 7"
   ]
  },
  {
   "cell_type": "code",
   "execution_count": 36,
   "id": "a7d7982b",
   "metadata": {},
   "outputs": [],
   "source": [
    "from scipy.stats import t\n",
    "tinv = lambda p, df: abs(t.ppf(p/2, df))\n",
    "ts = tinv(0.05, len(data['timestamp'])-2)\n",
    "# Adapted from https://docs.scipy.org/doc/scipy/reference/generated/scipy.stats.linregress.html ."
   ]
  },
  {
   "cell_type": "code",
   "execution_count": 37,
   "id": "9fc090f4",
   "metadata": {},
   "outputs": [
    {
     "name": "stdout",
     "output_type": "stream",
     "text": [
      "slope (95%): 0.0000000230 +/- 0.0000000018\n"
     ]
    }
   ],
   "source": [
    "print(f\"slope (95%): {fit.slope:.10f} +/- {ts*fit.stderr:.10f}\")\n",
    "# Adapted from https://docs.scipy.org/doc/scipy/reference/generated/scipy.stats.linregress.html ."
   ]
  },
  {
   "cell_type": "code",
   "execution_count": 38,
   "id": "4b433852",
   "metadata": {},
   "outputs": [
    {
     "name": "stdout",
     "output_type": "stream",
     "text": [
      "According to the 95% Confidence Interval, we are 95% confident that the slope is always greater than 0. Hence, the rationgs are increasing.\n"
     ]
    }
   ],
   "source": [
    "if (fit.slope > ts*fit.stderr):\n",
    "    print('According to the 95% Confidence Interval, we are 95% confident that the slope is always greater than 0. Hence, the rationgs are increasing.')\n",
    "else:\n",
    "    print('According to the 95% Confidence Interval, we are not 95% confident that the slope is always greater than 0. Hence, the rationgs may decrease.')"
   ]
  },
  {
   "cell_type": "code",
   "execution_count": 39,
   "id": "d44d7ba0",
   "metadata": {},
   "outputs": [],
   "source": [
    "import statsmodels.api as sm"
   ]
  },
  {
   "cell_type": "code",
   "execution_count": 40,
   "id": "ddd29449",
   "metadata": {},
   "outputs": [
    {
     "name": "stdout",
     "output_type": "stream",
     "text": [
      "                            OLS Regression Results                            \n",
      "==============================================================================\n",
      "Dep. Variable:                      y   R-squared:                       0.146\n",
      "Model:                            OLS   Adj. R-squared:                  0.146\n",
      "Method:                 Least Squares   F-statistic:                       nan\n",
      "Date:                Fri, 02 Jul 2021   Prob (F-statistic):                nan\n",
      "Time:                        09:32:44   Log-Likelihood:                -3433.5\n",
      "No. Observations:                1871   AIC:                             6869.\n",
      "Df Residuals:                    1870   BIC:                             6875.\n",
      "Df Model:                           0                                         \n",
      "Covariance Type:            nonrobust                                         \n",
      "==============================================================================\n",
      "                 coef    std err          t      P>|t|      [0.025      0.975]\n",
      "------------------------------------------------------------------------------\n",
      "x1           7.98e-09   2.34e-11    340.385      0.000    7.93e-09    8.03e-09\n",
      "==============================================================================\n",
      "Omnibus:                      953.888   Durbin-Watson:                   1.563\n",
      "Prob(Omnibus):                  0.000   Jarque-Bera (JB):             9254.207\n",
      "Skew:                          -2.186   Prob(JB):                         0.00\n",
      "Kurtosis:                      12.979   Cond. No.                         1.00\n",
      "==============================================================================\n",
      "\n",
      "Notes:\n",
      "[1] Standard Errors assume that the covariance matrix of the errors is correctly specified.\n"
     ]
    },
    {
     "data": {
      "image/png": "[encoded data removed]",
      "text/plain": [
       "<Figure size 432x288 with 1 Axes>"
      ]
     },
     "metadata": {
      "needs_background": "light"
     },
     "output_type": "display_data"
    },
    {
     "data": {
      "image/png": "[encoded data removed]",
      "text/plain": [
       "<Figure size 720x216 with 2 Axes>"
      ]
     },
     "metadata": {
      "needs_background": "light"
     },
     "output_type": "display_data"
    }
   ],
   "source": [
    "import numpy as np\n",
    "#fit the variables in to the linear model\n",
    "model = sm.OLS(data['rating'].values, data['timestamp'].values, hasconst=True).fit()\n",
    "\n",
    "#print the intercept and regression coefficients\n",
    "print_model = model.summary()\n",
    "print(print_model)\n",
    "\n",
    "#residuals visualization\n",
    "mu = np.mean(model.resid)\n",
    "sigma = np.std(model.resid)\n",
    "pdf = stats.norm.pdf(sorted(model.resid), mu, sigma)\n",
    "plt.hist(model.resid, bins = 50)\n",
    "plt.plot(sorted(model.resid), pdf, color= 'r', linewidth = 2)\n",
    "plt.title('Figure 4: Histogram of Residuals Using OLS')\n",
    "plt.show()\n",
    "\n",
    "#qq plot\n",
    "fig, [ax1, ax2] = plt.subplots(1,2, figsize=(10,3))\n",
    "sm.qqplot(model.resid, stats.t, fit = True, line = '45', ax = ax1)\n",
    "ax1.set_title('Figure 5: QQ Plot of T Distribution Using OLS')\n",
    "sm.qqplot(model.resid, stats.norm, fit = True, line = '45', ax = ax2)\n",
    "ax2.set_title('Figure 6: QQ Plot of Normal Distribution Using OLS')\n",
    "plt.show()\n",
    "\n",
    "# Adapted from https://slogix.in/how-to-check-whether-residuals-are-normally-distributed-or-not-using-python#Source-code ."
   ]
  },
  {
   "cell_type": "code",
   "execution_count": 41,
   "id": "2b0b2cf5",
   "metadata": {},
   "outputs": [
    {
     "data": {
      "text/plain": [
       "5.173838373403248e-211"
      ]
     },
     "execution_count": 41,
     "metadata": {},
     "output_type": "execute_result"
    }
   ],
   "source": [
    "stats.normaltest(residual).pvalue"
   ]
  },
  {
   "cell_type": "code",
   "execution_count": 42,
   "id": "823d2e15",
   "metadata": {},
   "outputs": [
    {
     "name": "stdout",
     "output_type": "stream",
     "text": [
      "According to the summaries, it is clear that residuals are NOT close-enough to look at the p-value.\n"
     ]
    }
   ],
   "source": [
    "print('According to the summaries, it is clear that residuals are NOT close-enough to look at the p-value.')"
   ]
  },
  {
   "cell_type": "code",
   "execution_count": null,
   "id": "290aa641",
   "metadata": {},
   "outputs": [],
   "source": []
  }
 ],
 "metadata": {
  "kernelspec": {
   "display_name": "Python 3",
   "language": "python",
   "name": "python3"
  },
  "language_info": {
   "codemirror_mode": {
    "name": "ipython",
    "version": 3
   },
   "file_extension": ".py",
   "mimetype": "text/x-python",
   "name": "python",
   "nbconvert_exporter": "python",
   "pygments_lexer": "ipython3",
   "version": "3.8.8"
  }
 },
 "nbformat": 4,
 "nbformat_minor": 5
}
